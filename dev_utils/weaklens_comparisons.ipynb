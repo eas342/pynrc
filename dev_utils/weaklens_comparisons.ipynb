{
 "cells": [
  {
   "cell_type": "code",
   "execution_count": 1,
   "metadata": {},
   "outputs": [],
   "source": [
    "# Import the usual libraries\n",
    "import numpy as np\n",
    "import matplotlib\n",
    "import matplotlib.pyplot as plt\n",
    "#import matplotlib.patches as mpatches\n",
    "\n",
    "# Enable inline plotting\n",
    "%matplotlib inline\n",
    "\n",
    "#from IPython.display import display, Latex, clear_output"
   ]
  },
  {
   "cell_type": "code",
   "execution_count": 26,
   "metadata": {},
   "outputs": [
    {
     "name": "stdout",
     "output_type": "stream",
     "text": [
      "pyNRC log messages of level WARNING and above will be shown.\n",
      "pyNRC log outputs will be directed to the screen.\n"
     ]
    }
   ],
   "source": [
    "import pynrc\n",
    "pynrc.setup_logging('WARNING')\n",
    "\n",
    "from astropy.io import fits"
   ]
  },
  {
   "cell_type": "code",
   "execution_count": 3,
   "metadata": {},
   "outputs": [],
   "source": [
    "def save_psf(nrc, p, f, oversample=False, sp=None):\n",
    "    \n",
    "    if sp is None:\n",
    "        sp = pynrc.stellar_spectrum('flat', 10, 'mJy', nrc.bandpass)\n",
    "    res = nrc.gen_psf(sp=sp, return_oversample=oversample)\n",
    "    if oversample:\n",
    "        hdu = fits.PrimaryHDU(res[1])\n",
    "    else:\n",
    "        hdu = fits.PrimaryHDU(res)\n",
    "    \n",
    "    \n",
    "    hdr = hdu.header\n",
    "\n",
    "    hdr['FILTER']  = (nrc.filter, 'Filter Value')\n",
    "\n",
    "    if nrc._pupil is None:\n",
    "        hdr['PUPIL']  = ('None', 'Pupil Setting')\n",
    "    else:\n",
    "        hdr['PUPIL']  = (nrc.pupil, 'Pupil Setting')\n",
    "    if nrc._mask is None:\n",
    "        hdr['MASK']   = ('None', 'Coronagraphic Mask Setting')\n",
    "    else:\n",
    "        hdr['MASK']   = (nrc.mask, 'Coronagraphic Mask Setting')\n",
    "    hdr['MODULE'] = (nrc.module, 'NIRCam Module A or B')\n",
    "    hdr['FOVPIX'] = (nrc.psf_info['fov_pix'], 'WebbPSF pixel FoV')\n",
    "    hdr['OSAMP']  = (nrc.psf_info['oversample'], 'WebbPSF pixel oversample')\n",
    "\n",
    "    opd = nrc.psf_info['opd']\n",
    "    hdr['PUPILOPD'] = (opd[0], 'Pupil wavefront OPD')\n",
    "    hdr['OPDSLICE'] = (opd[1], 'OPD slice index')\n",
    "\n",
    "    jitter = nrc.psf_info['jitter']\n",
    "    jitter_sigma = nrc.psf_info['jitter_sigma']\n",
    "    if jitter is None:\n",
    "        hdr['JITTER'] = ('None', 'Jitter type')\n",
    "    else:\n",
    "        hdr['JITTER'] = (jitter, 'Jitter type')\n",
    "    hdr['JITSIG'] = (jitter_sigma, 'Jitter sigma')\n",
    "\n",
    "    hdr['SIWFE'] = (nrc.psf_info['include_si_wfe'], 'Was SI WFE included?')\n",
    "\n",
    "    save_name = '{}_{}'.format(p, f)\n",
    "    if oversample:\n",
    "        save_name = save_name + '_oversampled'\n",
    "    hdu.writeto(save_name+'.fits', overwrite=True)"
   ]
  },
  {
   "cell_type": "code",
   "execution_count": 51,
   "metadata": {},
   "outputs": [],
   "source": [
    "from pynrc.nrc_utils import S\n",
    "flatsp = S.FlatSpectrum(10, fluxunits='flam')\n",
    "# flatsp.convert('photlam')"
   ]
  },
  {
   "cell_type": "code",
   "execution_count": 52,
   "metadata": {},
   "outputs": [
    {
     "data": {
      "text/plain": [
       "<pysynphot.units.Flam at 0x1c3018c940>"
      ]
     },
     "execution_count": 52,
     "metadata": {},
     "output_type": "execute_result"
    }
   ],
   "source": [
    "flatsp.fluxunits"
   ]
  },
  {
   "cell_type": "code",
   "execution_count": 53,
   "metadata": {},
   "outputs": [
    {
     "data": {
      "text/plain": [
       "[<matplotlib.lines.Line2D at 0x1c30424f28>]"
      ]
     },
     "execution_count": 53,
     "metadata": {},
     "output_type": "execute_result"
    },
    {
     "data": {
      "image/png": "[encoded data removed]",
      "text/plain": [
       "<Figure size 576x432 with 1 Axes>"
      ]
     },
     "metadata": {
      "needs_background": "light"
     },
     "output_type": "display_data"
    }
   ],
   "source": [
    "plt.plot(flatsp.wave, flatsp.flux)"
   ]
  },
  {
   "cell_type": "code",
   "execution_count": 66,
   "metadata": {},
   "outputs": [],
   "source": [
    "# Flat in Flam\n",
    "sp_flam = S.FlatSpectrum(1, fluxunits='flam')\n",
    "# Convert to mJy and normalize 10 mJy at 2um\n",
    "sp_flam.convert('mJy')\n",
    "sp_flam = (10 / sp_flam.sample(2e4)) * sp_flam \n",
    "sp_flam.convert('photlam')\n",
    "\n",
    "# Flat in Fnu\n",
    "sp_fnu = S.FlatSpectrum(10, fluxunits='mJy')\n",
    "sp_fnu.convert('photlam')"
   ]
  },
  {
   "cell_type": "code",
   "execution_count": 71,
   "metadata": {},
   "outputs": [
    {
     "name": "stdout",
     "output_type": "stream",
     "text": [
      "Filter Flat Flam   Flat Fnu\n",
      "F070W   14509.27  116145.70\n",
      "F150W  171971.94  301430.43\n",
      "F200W  405361.32  410754.45\n",
      "F182M  191971.07  225496.03\n",
      "F210M  190270.27  173488.75\n",
      "F187N   18335.93   20890.03\n",
      "F212N   25773.45   22894.65\n",
      "WLP4    50966.75   44991.38\n"
     ]
    }
   ],
   "source": [
    "pup = 'WLP8'\n",
    "filt_arr = ['F070W', 'F150W', 'F200W', 'F182M', 'F210M', 'F187N', 'F212N']\n",
    "\n",
    "pynrc_vals = []\n",
    "\n",
    "print('Filter Flat Flam   Flat Fnu')\n",
    "for f in filt_arr:\n",
    "    nrc = pynrc.NIRCam(filter=f, pupil=pup, fov_pix=201, include_si_wfe=False)\n",
    "    res1 = nrc.gen_psf(sp=sp_flam, return_oversample=False)\n",
    "    res2 = nrc.gen_psf(sp=sp_fnu, return_oversample=False)\n",
    "    print('{} {:10.2f} {:10.2f}'.format(f, res1.sum(), res2.sum()))\n",
    "    \n",
    "    pynrc_vals.append(res2.sum())\n",
    "\n",
    "\n",
    "pup = 'WLP4'\n",
    "nrc = pynrc.NIRCam(pupil=pup, fov_pix=201, include_si_wfe=False)\n",
    "res1 = nrc.gen_psf(sp=sp_flam, return_oversample=False)\n",
    "res2 = nrc.gen_psf(sp=sp_fnu, return_oversample=False)\n",
    "print('{}  {:10.2f} {:10.2f}'.format(pup, res1.sum(), res2.sum()))\n",
    "\n",
    "pynrc_vals.append(res2.sum())\n",
    "pynrc_vals = np.array(pynrc_vals)"
   ]
  },
  {
   "cell_type": "code",
   "execution_count": 73,
   "metadata": {},
   "outputs": [
    {
     "name": "stdout",
     "output_type": "stream",
     "text": [
      "[0.99840301 1.91451391 1.63808181 1.98296642 1.27089936 1.04670808\n",
      " 0.7299437  4.38149154]\n"
     ]
    }
   ],
   "source": [
    "pandeia_vals = np.array([117317, 307314, 417595, 230058, 175722, 21111, 23063, 47053.])\n",
    "print(100* (1 - pynrc_vals / pandeia_vals))"
   ]
  },
  {
   "cell_type": "code",
   "execution_count": 12,
   "metadata": {},
   "outputs": [
    {
     "name": "stdout",
     "output_type": "stream",
     "text": [
      "[     pynrc:INFO] Initializing SCA 481/A1\n",
      "[     pynrc:INFO] Updating PSF coeff with fov_pix=201 and oversample=4\n",
      "[     pynrc:INFO] Initializing SCA 481/A1\n",
      "[     pynrc:INFO] Updating PSF coeff with fov_pix=201 and oversample=4\n",
      "[     pynrc:INFO] Initializing SCA 481/A1\n",
      "[     pynrc:INFO] Updating PSF coeff with fov_pix=201 and oversample=4\n",
      "[     pynrc:INFO] Initializing SCA 481/A1\n",
      "[     pynrc:INFO] Updating PSF coeff with fov_pix=201 and oversample=4\n",
      "[     pynrc:INFO] Initializing SCA 481/A1\n",
      "[     pynrc:INFO] Updating PSF coeff with fov_pix=201 and oversample=4\n",
      "[     pynrc:INFO] Initializing SCA 481/A1\n",
      "[     pynrc:INFO] Updating PSF coeff with fov_pix=201 and oversample=4\n",
      "[     pynrc:INFO] Initializing SCA 481/A1\n",
      "[     pynrc:INFO] Updating PSF coeff with fov_pix=201 and oversample=4\n"
     ]
    }
   ],
   "source": [
    "pup = 'WLP8'\n",
    "filt_arr = ['F070W', 'F150W', 'F200W', 'F182M', 'F210M', 'F187N', 'F212N']\n",
    "\n",
    "for f in filt_arr:\n",
    "    nrc = pynrc.NIRCam(filter=f, pupil=pup, fov_pix=201, include_si_wfe=False)\n",
    "    save_psf(nrc, pup, f, sp=sp)\n",
    "#     save_psf(nrc, pup, f, oversample=True, sp=sp)\n"
   ]
  },
  {
   "cell_type": "code",
   "execution_count": 13,
   "metadata": {},
   "outputs": [
    {
     "name": "stdout",
     "output_type": "stream",
     "text": [
      "[     pynrc:INFO] Initializing SCA 481/A1\n",
      "[     pynrc:INFO] Updating PSF coeff with fov_pix=201 and oversample=4\n"
     ]
    }
   ],
   "source": [
    "pup = 'WLP4'\n",
    "nrc = pynrc.NIRCam(pupil=pup, fov_pix=201, include_si_wfe=False)\n",
    "save_psf(nrc, pup, 'None')\n",
    "save_psf(nrc, pup, f, oversample=True)"
   ]
  },
  {
   "cell_type": "code",
   "execution_count": null,
   "metadata": {},
   "outputs": [],
   "source": []
  }
 ],
 "metadata": {
  "kernelspec": {
   "display_name": "Python 3",
   "language": "python",
   "name": "python3"
  },
  "language_info": {
   "codemirror_mode": {
    "name": "ipython",
    "version": 3
   },
   "file_extension": ".py",
   "mimetype": "text/x-python",
   "name": "python",
   "nbconvert_exporter": "python",
   "pygments_lexer": "ipython3",
   "version": "3.7.1"
  }
 },
 "nbformat": 4,
 "nbformat_minor": 2
}
