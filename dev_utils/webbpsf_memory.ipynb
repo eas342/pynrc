{
 "cells": [
  {
   "cell_type": "code",
   "execution_count": 1,
   "metadata": {
    "collapsed": true
   },
   "outputs": [],
   "source": [
    "# Makes print and division act like Python 3\n",
    "from __future__ import print_function, division\n",
    "\n",
    "# Import the usual libraries\n",
    "import numpy as np\n",
    "import matplotlib\n",
    "import matplotlib.pyplot as plt\n",
    "\n",
    "# seaborn package for making pretty plots, but not necessary\n",
    "try:\n",
    "    import seaborn as sns\n",
    "    params =   {'xtick.direction': 'in', 'ytick.direction': 'in', 'font.family': ['serif'],\n",
    "                'text.usetex': True, 'text.latex.preamble': ['\\usepackage{gensymb}']}\n",
    "    sns.set_style(\"ticks\", params)\n",
    "except ImportError:\n",
    "    print('Seaborn module is not installed.')\n",
    "\n",
    "from IPython.display import display, Latex"
   ]
  },
  {
   "cell_type": "code",
   "execution_count": 2,
   "metadata": {
    "collapsed": true
   },
   "outputs": [],
   "source": [
    "# Enable inline plotting at lower left\n",
    "%matplotlib inline\n",
    "matplotlib.rcParams['image.origin'] = 'lower'"
   ]
  },
  {
   "cell_type": "code",
   "execution_count": 3,
   "metadata": {
    "collapsed": true
   },
   "outputs": [],
   "source": [
    "import multiprocessing as mp\n",
    "from memory_profiler import memory_usage"
   ]
  },
  {
   "cell_type": "code",
   "execution_count": 4,
   "metadata": {
    "collapsed": true
   },
   "outputs": [],
   "source": [
    "import webbpsf\n",
    "from webbpsf.webbpsf_core import poppy\n",
    "\n",
    "poppy.conf.use_fftw = False# Doesn't play well with multiprocessing\n",
    "poppy.conf.use_multiprocessing = True\n",
    "poppy.conf.n_processes = int(0.75 * mp.cpu_count())\n",
    "webbpsf.conf.default_output_mode = u'detector'"
   ]
  },
  {
   "cell_type": "code",
   "execution_count": 5,
   "metadata": {
    "collapsed": true
   },
   "outputs": [],
   "source": [
    "def _wrap_coeff_for_mp(args):\n",
    "    \"\"\"\n",
    "    Internal helper routine for parallelizing computations across multiple processors.\n",
    "    \"\"\"\n",
    "    inst,w,fov_pix,oversample = args\n",
    "    hdu_list = inst.calc_psf(outfile=None, save_intermediates=False, oversample=oversample, rebin=True, \\\n",
    "                            fov_pixels=fov_pix, monochromatic=w*1e-6)\n",
    "    return hdu_list[0].data\n"
   ]
  },
  {
   "cell_type": "code",
   "execution_count": 42,
   "metadata": {
    "collapsed": true
   },
   "outputs": [],
   "source": [
    "def f(fov_pix=32, os=2, pupil=None, mask=None, **kwargs):\n",
    "    nc = webbpsf.NIRCam()\n",
    "    nc.detector = 'B5'\n",
    "    nc.filter='F430M'\n",
    "    nc.pupil_mask=pupil #'WEDGELYOT'\n",
    "    nc.image_mask=mask #'MASKLWB'\n",
    "    nc.options['output_mode'] = 'oversampled'\n",
    "    nc.options['parity'] = 'odd'\n",
    "    nc.pupilopd = ('OPD_RevV_nircam_136.fits', 0)\n",
    "    nc.options['source_offset_r'] = 0 #1\n",
    "    nc.options['source_offset_theta'] = 0# 45\n",
    "       \n",
    "    hdu_list2 = nc.calc_psf(outfile=None, save_intermediates=False, oversample=os, rebin=True, \\\n",
    "                            fov_pixels=fov_pix, monochromatic=4.3e-6)\n",
    "    del hdu_list2"
   ]
  },
  {
   "cell_type": "code",
   "execution_count": 7,
   "metadata": {
    "collapsed": false
   },
   "outputs": [
    {
     "name": "stdout",
     "output_type": "stream",
     "text": [
      "0 1\n",
      "1 2\n",
      "2 4\n",
      "3 8\n"
     ]
    }
   ],
   "source": [
    "from time import sleep\n",
    "\n",
    "# Direct Imaging Calculations\n",
    "fov_arr = np.array([16,32,128,160,256,320,512,640,1024,2048])\n",
    "os_arr = np.array([1,2,4,8])\n",
    "#os_arr = np.array([1,2,3,4,5,10,20,30,40,50])\n",
    "\n",
    "mem_vals1 = np.zeros([fov_arr.size,os_arr.size])\n",
    "for j,os in enumerate(os_arr):\n",
    "    print(j,os)\n",
    "    for i,fov_pix in enumerate(fov_arr):\n",
    "        sleep(0.1)\n",
    "        args = (fov_pix,os,None,None)\n",
    "        mem_max = memory_usage((f,args,{}), max_usage=True, interval=0.01)\n",
    "        mem_vals1[i,j] = mem_max[0]"
   ]
  },
  {
   "cell_type": "code",
   "execution_count": 108,
   "metadata": {
    "collapsed": false
   },
   "outputs": [
    {
     "data": {
      "image/png": "[encoded data removed]",
      "text/plain": [
       "<matplotlib.figure.Figure at 0x121961850>"
      ]
     },
     "metadata": {},
     "output_type": "display_data"
    }
   ],
   "source": [
    "current_palette = sns.color_palette()\n",
    "for i in range(os_arr.size):\n",
    "    plt.plot(fov_arr,mem_vals1[:,i], color=current_palette[i], lw=3)\n",
    "    mem_per_output = 2.5*(os_arr[i]*fov_arr)**2 * 16 / (1024**2) + 300\n",
    "    plt.plot(fov_arr, mem_per_output, color=current_palette[i], ls='--')\n",
    "#plt.ylim([300,1200])"
   ]
  },
  {
   "cell_type": "code",
   "execution_count": 51,
   "metadata": {
    "collapsed": false
   },
   "outputs": [
    {
     "name": "stdout",
     "output_type": "stream",
     "text": [
      "0 1\n",
      "1 2\n",
      "2 4\n",
      "3 8\n"
     ]
    }
   ],
   "source": [
    "# Coronagraphic Imaging Calculations\n",
    "fov_arr = np.array([16,32,128,160,256,320,512,640,1024,2048])\n",
    "os_arr = np.array([1,2,4,8])\n",
    "#os_arr = np.array([1,2,3,4,5,10,20,30,40,50])\n",
    "\n",
    "mem_vals2 = np.zeros([fov_arr.size,os_arr.size])\n",
    "for j,os in enumerate(os_arr):\n",
    "    print(j,os)\n",
    "    for i,fov_pix in enumerate(fov_arr):\n",
    "        sleep(0.1)\n",
    "        args = (fov_pix,os,'WEDGELYOT','MASKLWB')\n",
    "        mem_max = memory_usage((f,args,{}), max_usage=True, interval=0.01)\n",
    "        mem_vals2[i,j] = mem_max[0]"
   ]
  },
  {
   "cell_type": "code",
   "execution_count": 106,
   "metadata": {
    "collapsed": false
   },
   "outputs": [
    {
     "data": {
      "text/plain": [
       "(450, 12000)"
      ]
     },
     "execution_count": 106,
     "metadata": {},
     "output_type": "execute_result"
    },
    {
     "data": {
      "image/png": "[encoded data removed]",
      "text/plain": [
       "<matplotlib.figure.Figure at 0x12263d510>"
      ]
     },
     "metadata": {},
     "output_type": "display_data"
    }
   ],
   "source": [
    "current_palette = sns.color_palette()\n",
    "for i in range(os_arr.size):\n",
    "    plt.plot(fov_arr,mem_vals2[:,i], color=current_palette[i], lw=3)\n",
    "    mem_per_output = ((os_arr[i]*(fov_arr*0 + 1024*2.4))**2 * 16 / (1024**2) + 500)\n",
    "    mem_per_output[fov_arr>1024] *= 1.6 \n",
    "    plt.plot(fov_arr, mem_per_output, color=current_palette[i], ls='--')\n",
    "plt.ylim([450,12000])"
   ]
  },
  {
   "cell_type": "code",
   "execution_count": null,
   "metadata": {
    "collapsed": true
   },
   "outputs": [],
   "source": []
  }
 ],
 "metadata": {
  "anaconda-cloud": {},
  "kernelspec": {
   "display_name": "Python [default]",
   "language": "python",
   "name": "python2"
  },
  "language_info": {
   "codemirror_mode": {
    "name": "ipython",
    "version": 2
   },
   "file_extension": ".py",
   "mimetype": "text/x-python",
   "name": "python",
   "nbconvert_exporter": "python",
   "pygments_lexer": "ipython2",
   "version": "2.7.12"
  }
 },
 "nbformat": 4,
 "nbformat_minor": 0
}
