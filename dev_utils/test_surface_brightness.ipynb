{
 "cells": [
  {
   "cell_type": "code",
   "execution_count": 1,
   "metadata": {
    "collapsed": false
   },
   "outputs": [],
   "source": [
    "# Makes print and division act like Python 3\n",
    "from __future__ import print_function, division\n",
    "\n",
    "# Import the usual libraries\n",
    "import numpy as np\n",
    "import matplotlib\n",
    "import matplotlib.pyplot as plt\n",
    "\n",
    "# Enable inline plotting at lower left\n",
    "%matplotlib inline\n",
    "matplotlib.rcParams['image.origin'] = 'lower'\n",
    "\n",
    "# seaborn package for making pretty plots, but not necessary\n",
    "try:\n",
    "    import seaborn as sns\n",
    "    params =   {'xtick.direction': 'in', 'ytick.direction': 'in', 'font.family': ['serif'],\n",
    "                'text.usetex': True, 'text.latex.preamble': ['\\usepackage{gensymb}']}\n",
    "    sns.set_style(\"ticks\", params)\n",
    "except ImportError:\n",
    "    print('Seaborn module is not installed.')\n",
    "    \n",
    "from IPython.display import display, Latex"
   ]
  },
  {
   "cell_type": "code",
   "execution_count": 2,
   "metadata": {
    "collapsed": true
   },
   "outputs": [],
   "source": [
    "try: # Desktop\n",
    "    import pynrc\n",
    "    from pynrc import nrc_utils\n",
    "    from pynrc.nrc_utils import (webbpsf, poppy, pix_noise)\n",
    "except ImportError: # Laptop\n",
    "    import sys\n",
    "    sys.path.insert(0, '/Users/jarron/Dropbox/NIRCam/')\n",
    "\n",
    "    import pyNRC as pynrc\n",
    "    from pyNRC import nrc_utils\n",
    "    from pyNRC.nrc_utils import (webbpsf, poppy, pix_noise)\n",
    "                       \n",
    "    poppy.conf.use_multiprocessing=False\n",
    "    \n",
    "import astropy.io.fits as fits\n",
    "import multiprocessing as mp"
   ]
  },
  {
   "cell_type": "code",
   "execution_count": 3,
   "metadata": {
    "collapsed": false,
    "scrolled": true
   },
   "outputs": [],
   "source": [
    "pynrc.setup_logging('WARNING', verbose=False)"
   ]
  },
  {
   "cell_type": "code",
   "execution_count": 4,
   "metadata": {
    "collapsed": false
   },
   "outputs": [],
   "source": [
    "nrc = pynrc.NIRCam('F200W')"
   ]
  },
  {
   "cell_type": "code",
   "execution_count": 5,
   "metadata": {
    "collapsed": false
   },
   "outputs": [
    {
     "data": {
      "text/plain": [
       "{u't_acq': 86753.1016,\n",
       " u't_exp': 75586.8608,\n",
       " u't_frame': 10.73677,\n",
       " u't_group': 214.7354,\n",
       " u't_int': 944.8357599999999}"
      ]
     },
     "execution_count": 5,
     "metadata": {},
     "output_type": "execute_result"
    }
   ],
   "source": [
    "nrc.update_detectors(ngroup=5, nint=80, read_mode='DEEP8')\n",
    "nrc.multiaccum_times"
   ]
  },
  {
   "cell_type": "code",
   "execution_count": 15,
   "metadata": {
    "collapsed": false,
    "scrolled": false
   },
   "outputs": [
    {
     "name": "stdout",
     "output_type": "stream",
     "text": [
      "Point Source Sensitivity (1-sigma): 0.30 nJy\n",
      "Surface Brightness Sensitivity (1-sigma): 10.20 nJy/arcsec^2\n"
     ]
    }
   ],
   "source": [
    "_ = nrc.sensitivity(units='nJy', nsig=1, verbose=True, zfact=2.5)"
   ]
  },
  {
   "cell_type": "code",
   "execution_count": null,
   "metadata": {
    "collapsed": true
   },
   "outputs": [],
   "source": []
  }
 ],
 "metadata": {
  "anaconda-cloud": {},
  "kernelspec": {
   "display_name": "Python [default]",
   "language": "python",
   "name": "python2"
  },
  "language_info": {
   "codemirror_mode": {
    "name": "ipython",
    "version": 2
   },
   "file_extension": ".py",
   "mimetype": "text/x-python",
   "name": "python",
   "nbconvert_exporter": "python",
   "pygments_lexer": "ipython2",
   "version": "2.7.12"
  }
 },
 "nbformat": 4,
 "nbformat_minor": 0
}
