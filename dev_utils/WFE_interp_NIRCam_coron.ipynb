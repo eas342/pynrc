{
 "cells": [
  {
   "cell_type": "code",
   "execution_count": 1,
   "metadata": {},
   "outputs": [],
   "source": [
    "# Import the usual libraries\n",
    "import numpy as np\n",
    "import matplotlib\n",
    "import matplotlib.pyplot as plt\n",
    "#import matplotlib.patches as mpatches\n",
    "\n",
    "# Enable inline plotting\n",
    "%matplotlib inline\n",
    "\n",
    "#from IPython.display import display, Latex, clear_output"
   ]
  },
  {
   "cell_type": "code",
   "execution_count": 2,
   "metadata": {},
   "outputs": [
    {
     "name": "stdout",
     "output_type": "stream",
     "text": [
      "[     pynrc:INFO]   jwst_backgrounds is not installed and will not be used for bg estimates.\n"
     ]
    }
   ],
   "source": [
    "# WebbPSF\n",
    "import pynrc, webbpsf, os\n",
    "\n",
    "# Interpolation and extrapolation\n",
    "from scipy.interpolate import griddata, RegularGridInterpolator\n",
    "from scipy.ndimage import rotate\n",
    "\n",
    "# pySIAF stuff for plotting\n",
    "from pysiaf.siaf import Siaf\n",
    "from pysiaf.siaf import plot_main_apertures\n",
    "\n",
    "# Astropy Tables and FITS\n",
    "from astropy.table import Table, join\n",
    "from astropy.io import fits\n",
    "from astropy.io import ascii"
   ]
  },
  {
   "cell_type": "code",
   "execution_count": 3,
   "metadata": {},
   "outputs": [],
   "source": [
    "# Directory and file information\n",
    "outdir = pynrc.conf.path + 'opd_mod/'\n",
    "\n",
    "# Read in measured SI Zernike data\n",
    "data_dir = webbpsf.utils.get_webbpsf_data_path() + '/'\n",
    "zernike_file = outdir + 'si_zernikes_coron_wfe.csv'\n",
    "\n",
    "# Read in table data\n",
    "ztable_full = ascii.read(zernike_file)  \n",
    "ztable_full.rename_column('\\ufeffinstrument', 'instrument')\n",
    "\n",
    "# Zernike names\n",
    "keys = np.array(ztable_full.keys())\n",
    "ind_z = ['Zernike' in k for k in keys]\n",
    "zkeys = keys[ind_z]"
   ]
  },
  {
   "cell_type": "markdown",
   "metadata": {},
   "source": [
    "# Convert .csv to .fits Table"
   ]
  },
  {
   "cell_type": "code",
   "execution_count": 7,
   "metadata": {
    "scrolled": true
   },
   "outputs": [],
   "source": [
    "zfile_fits = zernike_file[0:-4] + '.fits'\n",
    "ztable_full.write(zfile_fits, format='fits')"
   ]
  },
  {
   "cell_type": "code",
   "execution_count": 8,
   "metadata": {},
   "outputs": [],
   "source": [
    "tbl_wfe = Table.read(data_dir + 'si_zernikes_isim_cv3.fits')\n",
    "tbl_coron = Table.read(zernike_file)"
   ]
  },
  {
   "cell_type": "code",
   "execution_count": 9,
   "metadata": {},
   "outputs": [
    {
     "data": {
      "text/html": [
       "<i>Table length=93</i>\n",
       "<table id=\"table120895309080\" class=\"table-striped table-bordered table-condensed\">\n",
       "<thead><tr><th>instrument</th><th>field_point_name</th><th>V2</th><th>V3</th><th>PIXEL_X</th><th>PIXEL_Y</th><th>DETECTOR</th><th>WFE_RMS</th><th>Zernike_1</th><th>Zernike_2</th><th>Zernike_3</th><th>Zernike_4</th><th>Zernike_5</th><th>Zernike_6</th><th>Zernike_7</th><th>Zernike_8</th><th>Zernike_9</th><th>Zernike_10</th><th>Zernike_11</th><th>Zernike_12</th><th>Zernike_13</th><th>Zernike_14</th><th>Zernike_15</th><th>Zernike_16</th><th>Zernike_17</th><th>Zernike_18</th><th>Zernike_19</th><th>Zernike_20</th><th>Zernike_21</th><th>Zernike_22</th><th>Zernike_23</th><th>Zernike_24</th><th>Zernike_25</th><th>Zernike_26</th><th>Zernike_27</th><th>Zernike_28</th><th>Zernike_29</th><th>Zernike_30</th><th>Zernike_31</th><th>Zernike_32</th><th>Zernike_33</th><th>Zernike_34</th><th>Zernike_35</th><th>Zernike_36</th><th>origin</th><th>comments</th></tr></thead>\n",
       "<thead><tr><th></th><th></th><th>arcmin</th><th>arcmin</th><th>pix</th><th>pix</th><th></th><th>m</th><th>m</th><th>m</th><th>m</th><th>m</th><th>m</th><th>m</th><th>m</th><th>m</th><th>m</th><th>m</th><th>m</th><th>m</th><th>m</th><th>m</th><th>m</th><th>m</th><th>m</th><th>m</th><th>m</th><th>m</th><th>m</th><th>m</th><th>m</th><th>m</th><th>m</th><th>m</th><th>m</th><th>m</th><th>m</th><th>m</th><th>m</th><th>m</th><th>m</th><th>m</th><th>m</th><th>m</th><th></th><th></th></tr></thead>\n",
       "<thead><tr><th>bytes10</th><th>bytes10</th><th>float64</th><th>float64</th><th>float64</th><th>float64</th><th>bytes11</th><th>float64</th><th>float64</th><th>float64</th><th>float64</th><th>float64</th><th>float64</th><th>float64</th><th>float64</th><th>float64</th><th>float64</th><th>float64</th><th>float64</th><th>float64</th><th>float64</th><th>float64</th><th>float64</th><th>float64</th><th>float64</th><th>float64</th><th>float64</th><th>float64</th><th>float64</th><th>float64</th><th>float64</th><th>float64</th><th>float64</th><th>float64</th><th>float64</th><th>float64</th><th>float64</th><th>float64</th><th>float64</th><th>float64</th><th>float64</th><th>float64</th><th>float64</th><th>float64</th><th>bytes80</th><th>bytes240</th></tr></thead>\n",
       "<tr><td>Guider1</td><td>ASPAG1A</td><td>4.243813001</td><td>-12.204481009</td><td>1711.0</td><td>1497.0</td><td>FGS1_1</td><td>2.777925434872053e-08</td><td>2.1588991307404575e-09</td><td>3.0297333747465348e-09</td><td>9.990501956410384e-10</td><td>1.199701389475119e-08</td><td>1.2168427794656664e-08</td><td>-3.5664944969981764e-09</td><td>2.017309406736293e-09</td><td>8.780562597373421e-09</td><td>3.2944179756947098e-09</td><td>1.190142399663702e-08</td><td>5.114966522662449e-09</td><td>-1.514419166698998e-09</td><td>2.274620160271143e-09</td><td>-1.3405283964280843e-08</td><td>-4.875639483147028e-09</td><td>-3.350583827906116e-10</td><td>1.0401901448432255e-09</td><td>-7.3657696307605215e-09</td><td>-3.78191222856489e-09</td><td>-8.144748776917959e-10</td><td>-2.790845111344189e-09</td><td>6.9812805050685904e-09</td><td>5.086871718483054e-09</td><td>1.5429133501686715e-09</td><td>-3.0525679543588715e-10</td><td>-5.147004134023554e-09</td><td>-9.965849071981848e-10</td><td>-2.7616239690617165e-09</td><td>2.8550913288910253e-09</td><td>-2.60545879599318e-11</td><td>-4.909398995559523e-09</td><td>-2.240015377824439e-10</td><td>1.8591046586556508e-09</td><td>-1.4456435007222208e-09</td><td>-1.326176656920742e-09</td><td>-1.1451565237369654e-09</td><td>ISIM CV2 phase retrieval: Guider1/Guider1_ASPAG1A_Tricontagon_2.1um.fits</td><td></td></tr>\n",
       "<tr><td>Guider1</td><td>ASPAI7</td><td>4.098480105</td><td>-12.106938738</td><td>1588.005533</td><td>1416.672665</td><td>FGS1_1</td><td>2.229854171157994e-08</td><td>6.883642115358989e-10</td><td>1.6646576542782795e-09</td><td>2.7826450994759536e-09</td><td>-9.384732815671355e-10</td><td>1.489500225687883e-09</td><td>-1.0452444233832811e-08</td><td>7.58594723928376e-09</td><td>3.852862303410115e-09</td><td>5.291105992305623e-09</td><td>7.074938689705434e-09</td><td>6.062021055999103e-09</td><td>2.0987086694934101e-10</td><td>9.407960595457574e-10</td><td>-8.249300139827171e-09</td><td>-3.730033191035644e-09</td><td>7.857592583978706e-10</td><td>3.240344128108386e-10</td><td>-2.3659760059886897e-09</td><td>-6.310079742884713e-09</td><td>2.484468412364056e-09</td><td>-2.8665830979847643e-09</td><td>6.460929414761501e-09</td><td>5.605448026696179e-09</td><td>8.265880362185475e-10</td><td>3.88791076239223e-09</td><td>-3.3444095522799773e-09</td><td>-7.35954039739629e-10</td><td>-1.1216835985155513e-09</td><td>1.6127387751382922e-09</td><td>2.1976728387207173e-10</td><td>-3.859353136107549e-09</td><td>5.401687107749045e-10</td><td>3.2738866480693397e-09</td><td>-1.8886928528518997e-09</td><td>-1.8964440197640023e-09</td><td>-7.721843196282375e-10</td><td>ISIM CV2 phase retrieval: Guider1/Guider1_ASPAI7_Tricontagon_2.1um.fits</td><td></td></tr>\n",
       "<tr><td>Guider1</td><td>ASPAI8</td><td>4.271962184</td><td>-12.105763815</td><td>1738.041693</td><td>1413.350532</td><td>FGS1_1</td><td>3.3625488758495295e-08</td><td>3.827898857269974e-09</td><td>2.7656794047047495e-09</td><td>2.1134496370034802e-10</td><td>2.6840819065774534e-08</td><td>-9.505027332645373e-09</td><td>7.403295829827566e-10</td><td>2.4595057046339206e-09</td><td>9.485107639698239e-09</td><td>4.2457855658305486e-09</td><td>1.4880450892134903e-08</td><td>2.9767248620592094e-10</td><td>-1.395179636785255e-09</td><td>1.0614311458246513e-09</td><td>-6.139687590926382e-09</td><td>-3.5934563856353293e-09</td><td>-3.275722087785725e-09</td><td>-2.2027045716849493e-09</td><td>-4.7928191372859334e-09</td><td>-3.740656419389296e-09</td><td>-6.29967526811773e-10</td><td>2.617668148298865e-10</td><td>4.6738137947626054e-09</td><td>4.044632394544786e-09</td><td>3.1624871751208034e-09</td><td>2.7459691330224797e-09</td><td>-1.207692037657669e-09</td><td>-8.01798624881014e-10</td><td>-5.117924580229427e-09</td><td>3.149105715519253e-09</td><td>8.712749383935974e-10</td><td>-2.723516591803428e-09</td><td>-1.3563667172346852e-09</td><td>1.5209937577930304e-09</td><td>-1.5922834112517824e-09</td><td>-8.491961453842397e-10</td><td>-1.042051515221302e-09</td><td>ISIM CV2 phase retrieval: Guider1/Guider1_ASPAI8_Tricontagon_2.1um.fits</td><td></td></tr>\n",
       "<tr><td>Guider1</td><td>ASPAI9</td><td>4.273972465</td><td>-12.279071723</td><td>1734.902689</td><td>1559.308714</td><td>FGS1_1</td><td>4.675765840826089e-08</td><td>5.248563194804689e-09</td><td>3.828828231094795e-09</td><td>2.4457873161797236e-09</td><td>2.8492921151333792e-08</td><td>2.758806829148747e-08</td><td>-9.903169174205288e-09</td><td>8.357113509164014e-09</td><td>1.2935325458008041e-08</td><td>5.235308239738581e-09</td><td>1.121039438199568e-08</td><td>8.610987467113624e-09</td><td>-2.5996986439894067e-09</td><td>1.3450157474670504e-09</td><td>-1.0996373007028833e-08</td><td>-4.662193033535901e-09</td><td>-1.4034127816912187e-09</td><td>-6.584684310585885e-10</td><td>-3.3753164958653514e-09</td><td>-3.7027060799570166e-09</td><td>-2.203218774017835e-09</td><td>-3.2385355497191876e-09</td><td>2.2259399942455575e-09</td><td>-4.04777910322568e-09</td><td>5.2925239674464e-09</td><td>6.255881985709884e-09</td><td>1.967965568367643e-09</td><td>-9.082939133007872e-10</td><td>-4.840244594596228e-09</td><td>-1.1758343826372188e-09</td><td>-1.3758759134495861e-09</td><td>-6.076060915005483e-09</td><td>2.5176712528584087e-09</td><td>3.3768560267548606e-09</td><td>-1.9834733833260156e-09</td><td>-1.8073095343325479e-09</td><td>-1.015391761582862e-09</td><td>ISIM CV2 phase retrieval: Guider1/Guider1_ASPAI9_Tricontagon_2.1um.fits</td><td></td></tr>\n",
       "<tr><td>Guider1</td><td>ISIM16</td><td>3.453836292</td><td>-11.673627677999999</td><td>1036.0</td><td>1054.0</td><td>FGS1_1</td><td>5.4784247121878425e-08</td><td>-2.685936673113709e-09</td><td>5.909369839188176e-10</td><td>4.407262233380107e-09</td><td>-2.2559391643189697e-08</td><td>-4.138287140483739e-08</td><td>1.7237426853281636e-08</td><td>1.2545308825434788e-08</td><td>-1.9255022402110933e-09</td><td>5.61011164087561e-09</td><td>5.885800452232521e-09</td><td>3.6743497541023797e-09</td><td>-3.2789122183197672e-09</td><td>2.566330391899097e-09</td><td>-1.1183715486934464e-08</td><td>-7.15210898071041e-09</td><td>3.45137913109938e-09</td><td>-3.239139836691831e-09</td><td>9.879634733270097e-10</td><td>-2.180256330812984e-09</td><td>6.290270544586738e-09</td><td>-2.7370270104243446e-09</td><td>5.859715168824361e-09</td><td>6.941164820495241e-09</td><td>4.103414299681456e-09</td><td>8.802370498517744e-10</td><td>2.3603067448630325e-09</td><td>-6.811650586817545e-11</td><td>-1.9692198320075104e-10</td><td>2.5337476368998128e-09</td><td>3.8650873781492297e-10</td><td>-3.2196385806109913e-09</td><td>6.690246090928027e-10</td><td>3.158773765502521e-09</td><td>-2.1814811003423466e-09</td><td>-1.9454290419537165e-09</td><td>-1.3118032781352405e-09</td><td>ISIM CV2 phase retrieval: Guider1/Guider1_ISIM16_Tricontagon_2.1um.fits</td><td></td></tr>\n",
       "<tr><td>Guider1</td><td>ISIM23</td><td>2.367101704</td><td>-10.5800444</td><td>90.0</td><td>106.0</td><td>FGS1_1</td><td>5.02888519160343e-08</td><td>1.199334537990575e-09</td><td>2.575986042437245e-09</td><td>3.151221000526861e-10</td><td>1.7995092691779772e-08</td><td>-9.928724786786409e-09</td><td>-2.1310326039077427e-08</td><td>5.076729544671387e-11</td><td>3.689796839594598e-09</td><td>3.3058364297184726e-08</td><td>2.3431506993546042e-08</td><td>-3.4376928010881164e-09</td><td>-3.908103820168319e-09</td><td>-9.391253917042065e-10</td><td>-5.429217790903807e-09</td><td>-1.1543539202498778e-08</td><td>1.7735744643783364e-09</td><td>-2.374762010771239e-10</td><td>-9.140589759714597e-09</td><td>-2.49075783939652e-09</td><td>6.312081392999041e-09</td><td>-5.434066529900045e-09</td><td>6.035002221236624e-09</td><td>3.0648167171255933e-09</td><td>-1.1587891237617437e-09</td><td>8.508680142177869e-10</td><td>6.305990039956293e-10</td><td>3.127586965324948e-10</td><td>-1.650095332279017e-09</td><td>4.255296476107124e-09</td><td>-3.5884522361037e-10</td><td>-1.720046161969208e-09</td><td>-2.1163190526667957e-09</td><td>2.331778875095306e-09</td><td>-3.0560928976158645e-09</td><td>-1.2964177247004918e-09</td><td>-2.7368442887981096e-09</td><td>ISIM CV2 phase retrieval: Guider1/Guider1_ISIM23_Tricontagon_2.1um.fits</td><td></td></tr>\n",
       "<tr><td>Guider1</td><td>ISIM24</td><td>2.407340073</td><td>-12.722804833</td><td>100.0</td><td>1948.0</td><td>FGS1_1</td><td>3.539282160221181e-08</td><td>2.587902278516334e-09</td><td>2.371391155420246e-09</td><td>5.179994152716618e-09</td><td>1.074376277701104e-08</td><td>-1.9686751953457766e-08</td><td>6.975304034316664e-09</td><td>1.8154057176471033e-08</td><td>6.514813662860788e-09</td><td>-4.601478924159434e-09</td><td>1.1175761132596301e-09</td><td>6.141562328752984e-09</td><td>-5.963494059688675e-09</td><td>3.71087908219681e-09</td><td>-1.0353512765752107e-08</td><td>-8.708189845991747e-09</td><td>-1.412555641520387e-09</td><td>-2.565682683561683e-09</td><td>-8.455183066220843e-12</td><td>-5.919349603821407e-09</td><td>-1.3211891720344796e-09</td><td>-4.543073540140573e-10</td><td>7.449447118188073e-09</td><td>5.40617042719886e-10</td><td>6.937815690216945e-10</td><td>-1.230520730015698e-09</td><td>2.269771431413271e-09</td><td>1.1087228073836759e-09</td><td>-4.859525282127102e-09</td><td>5.458018705986147e-09</td><td>1.7175527544012953e-09</td><td>-2.102202047215255e-09</td><td>-4.151690763451941e-09</td><td>3.3461570782615697e-09</td><td>-5.000900046812382e-10</td><td>-2.371891192704515e-09</td><td>-1.7219511414410977e-09</td><td>ISIM CV2 phase retrieval: Guider1/Guider1_ISIM24_Tricontagon_2.1um.fits</td><td></td></tr>\n",
       "<tr><td>Guider1</td><td>ISIM25</td><td>4.483951427</td><td>-10.568410667</td><td>1960.0</td><td>90.0</td><td>FGS1_1</td><td>6.053052809796053e-08</td><td>1.3604470981968152e-09</td><td>6.697813649737691e-11</td><td>-1.8293328994225922e-09</td><td>7.217709656434562e-09</td><td>-4.954354744293459e-08</td><td>8.314346923441158e-09</td><td>-8.305194185123037e-09</td><td>-1.3844090943880923e-09</td><td>2.656433092037007e-08</td><td>1.2272066333945914e-08</td><td>2.7139875813516487e-09</td><td>-5.7118942719124896e-09</td><td>1.095965721645563e-08</td><td>-7.025892729217559e-09</td><td>-2.625652847291644e-09</td><td>6.5478461945013275e-09</td><td>-2.6653909248193327e-10</td><td>-2.6482510284287916e-09</td><td>4.4351791332196487e-10</td><td>6.647974515922675e-10</td><td>-3.959067062685544e-09</td><td>6.1657306114220595e-09</td><td>2.201152464862172e-09</td><td>8.6742051353301e-10</td><td>-1.5211666620092503e-09</td><td>1.326328655676239e-09</td><td>-5.575481469039936e-10</td><td>-3.2261234166221848e-09</td><td>2.7554388177597334e-09</td><td>-8.779001774507187e-10</td><td>-2.9714556915624693e-09</td><td>-1.8086490878163729e-09</td><td>1.1467100114301443e-09</td><td>-2.560166878605953e-10</td><td>-5.631483694464562e-10</td><td>8.705089307542085e-11</td><td>ISIM CV2 phase retrieval: Guider1/Guider1_ISIM25_Tricontagon_2.1um.fits</td><td></td></tr>\n",
       "<tr><td>Guider1</td><td>ISIM35</td><td>4.539288568</td><td>-12.750708227</td><td>1948.0</td><td>1948.0</td><td>FGS1_1</td><td>9.603825371428518e-08</td><td>9.416184485608289e-09</td><td>5.240529149185559e-10</td><td>4.842238494814335e-10</td><td>6.979067617037384e-08</td><td>6.54895013598552e-08</td><td>1.8158976043356784e-08</td><td>5.099130601102238e-09</td><td>7.329478528832977e-10</td><td>-1.7258724206388816e-08</td><td>1.7411314243690784e-08</td><td>5.164386801825055e-09</td><td>-5.136778634789451e-09</td><td>2.8384663280393847e-10</td><td>-1.2898758309324987e-08</td><td>-1.5383497013748036e-09</td><td>-6.312158231060547e-09</td><td>-4.338701690661315e-09</td><td>-3.571475363911216e-09</td><td>-6.28861062689939e-09</td><td>1.4241978937824325e-09</td><td>4.137984229788962e-09</td><td>3.94674845535245e-09</td><td>2.914621246505594e-09</td><td>6.862363635261178e-09</td><td>6.591340077626639e-09</td><td>-4.283505313002996e-09</td><td>-1.7010668634585258e-09</td><td>-8.00449791236889e-09</td><td>5.941658995260802e-09</td><td>3.669448570380674e-09</td><td>-2.6183296558628384e-10</td><td>-5.3563809960843974e-09</td><td>6.754896382119852e-10</td><td>-1.470879955098032e-09</td><td>-6.579365858787079e-10</td><td>-1.2875835270879917e-09</td><td>ISIM CV2 phase retrieval: Guider1/Guider1_ISIM35_Tricontagon_2.1um.fits</td><td></td></tr>\n",
       "<tr><td>...</td><td>...</td><td>...</td><td>...</td><td>...</td><td>...</td><td>...</td><td>...</td><td>...</td><td>...</td><td>...</td><td>...</td><td>...</td><td>...</td><td>...</td><td>...</td><td>...</td><td>...</td><td>...</td><td>...</td><td>...</td><td>...</td><td>...</td><td>...</td><td>...</td><td>...</td><td>...</td><td>...</td><td>...</td><td>...</td><td>...</td><td>...</td><td>...</td><td>...</td><td>...</td><td>...</td><td>...</td><td>...</td><td>...</td><td>...</td><td>...</td><td>...</td><td>...</td><td>...</td><td>...</td><td>...</td></tr>\n",
       "<tr><td>NIRISS</td><td>ISIM19</td><td>-3.83983712</td><td>-12.551342409</td><td>1965.0</td><td>1852.0</td><td>TFI_1</td><td>5.655877133469672e-08</td><td>6.420892401302127e-09</td><td>2.1376584197502417e-09</td><td>-4.287876112922073e-09</td><td>4.316418993368327e-08</td><td>-3.4320258407283996e-08</td><td>-1.1453049630401633e-08</td><td>-4.20013496851147e-09</td><td>1.9902805457514573e-09</td><td>-4.1527282563309935e-10</td><td>-1.1071562676111087e-09</td><td>-2.9346313956991334e-09</td><td>3.3715083401226706e-09</td><td>1.1959169686515644e-09</td><td>6.152017580098388e-09</td><td>-5.51243850067098e-09</td><td>3.966464349101584e-09</td><td>-6.476848564615388e-09</td><td>2.15128619499893e-09</td><td>-2.9237266083971913e-09</td><td>1.663953378204197e-09</td><td>1.4643234727408544e-09</td><td>-6.39551155950405e-09</td><td>4.076138216692083e-09</td><td>5.246030275382157e-09</td><td>-1.313982336958069e-09</td><td>-7.595691934057177e-09</td><td>-6.799416246937251e-10</td><td>-4.0154273767188e-09</td><td>9.522823285008201e-10</td><td>-1.370413092770009e-09</td><td>2.1464853149593735e-09</td><td>4.930745846536349e-10</td><td>-1.2405696605772113e-09</td><td>-4.63079275434711e-10</td><td>1.7898042056003114e-09</td><td>-1.0842053775741798e-09</td><td>ISIM CV2 phase retrieval: NIRISS/NIRISS_ISIM19_Tricontagon_1.55um.fits</td><td></td></tr>\n",
       "<tr><td>NIRISS</td><td>ISIM37</td><td>-5.870361862</td><td>-12.645758697</td><td>100.0</td><td>1948.0</td><td>TFI_1</td><td>4.237514723329288e-08</td><td>-9.841174565275603e-10</td><td>1.4993920952101757e-09</td><td>-1.3788844863058338e-09</td><td>-2.26336708025073e-08</td><td>2.6592397582976936e-08</td><td>-1.2807149156871618e-08</td><td>-3.759231911412674e-09</td><td>5.325590753391036e-09</td><td>2.0289803092880507e-09</td><td>-1.2998661861443643e-08</td><td>6.782519038557453e-09</td><td>6.440625370973812e-09</td><td>-9.169757781026999e-09</td><td>-5.705375147927161e-09</td><td>-1.7079750109674463e-09</td><td>6.208443443890943e-10</td><td>-3.514776898779435e-09</td><td>7.999317383595787e-09</td><td>-2.8175463349890026e-09</td><td>1.188010257279995e-09</td><td>2.1044698035095252e-10</td><td>-4.218956524778202e-09</td><td>4.2699815915398286e-09</td><td>-3.2804923673380262e-09</td><td>-1.5298372807731732e-09</td><td>3.2988079851192386e-09</td><td>-3.242860290960549e-10</td><td>1.9158279827025993e-09</td><td>6.573552401124291e-10</td><td>1.8134752427067557e-09</td><td>3.888000767533062e-09</td><td>1.050082851590193e-09</td><td>-7.027687304627675e-10</td><td>-7.43507304456613e-10</td><td>1.0265690472625901e-09</td><td>-7.050099990069609e-10</td><td>ISIM CV2 phase retrieval: NIRISS/NIRISS_ISIM37_Tricontagon_1.55um.fits</td><td></td></tr>\n",
       "<tr><td>NIRISS</td><td>MIMF3</td><td>-5.614537437</td><td>-12.03845327</td><td>330.0</td><td>1392.0</td><td>TFI_1</td><td>2.41239382010512e-08</td><td>-2.911684037487473e-09</td><td>1.319726325220822e-09</td><td>2.4870514127968317e-10</td><td>-7.646997762018652e-09</td><td>4.144834639482808e-09</td><td>1.5991757664704745e-08</td><td>1.4867818955201907e-09</td><td>4.794508413366634e-10</td><td>-1.1005783302388801e-08</td><td>-4.0100437062891194e-09</td><td>-7.14471763034039e-09</td><td>3.72947566074441e-09</td><td>2.7818047470887104e-09</td><td>-2.8858470030928205e-10</td><td>-7.065960200469566e-09</td><td>3.523057840362365e-09</td><td>-4.9571494703074435e-09</td><td>-3.854539090424639e-09</td><td>2.1147303102850164e-09</td><td>2.7385973222074234e-09</td><td>-1.9112717819312238e-09</td><td>-1.8816411273709276e-09</td><td>-8.934438141994443e-10</td><td>4.3469268357061375e-11</td><td>-7.106738120870325e-11</td><td>-4.6177233963756344e-09</td><td>-3.002217986347012e-10</td><td>2.426561351419661e-09</td><td>-6.291977971282726e-10</td><td>2.476204023874861e-09</td><td>-2.1359436921948663e-09</td><td>5.5231457977918085e-09</td><td>5.470622754173292e-10</td><td>-1.20390588083652e-09</td><td>3.1811840128067757e-10</td><td>-1.4297912850447785e-09</td><td>ISIM CV2 phase retrieval: NIRISS/NIRISS_MIMF3_Tricontagon_1.55um.fits</td><td></td></tr>\n",
       "<tr><td>NIRSpec</td><td>ISIM1</td><td>5.345660845</td><td>-7.902166555</td><td>1414.5</td><td>990.5</td><td>NIRSPEC_1</td><td>5.353854204543877e-08</td><td>6.5234748654413965e-09</td><td>-4.708916200755137e-09</td><td>7.924480377712341e-09</td><td>1.8753831087494112e-08</td><td>-8.325253871594866e-09</td><td>-7.762492536000518e-09</td><td>3.32981166976287e-08</td><td>-1.7018755673730952e-08</td><td>1.1740205483496392e-08</td><td>1.9548070269040087e-08</td><td>1.3898796024746404e-08</td><td>1.004851937965233e-08</td><td>-2.848580694716945e-09</td><td>6.208635803776097e-09</td><td>1.1534086052566619e-09</td><td>-2.706775900628211e-09</td><td>3.6279705237966e-10</td><td>-5.837354147224223e-09</td><td>-6.1221207576005025e-09</td><td>7.422867273670174e-10</td><td>-3.912878096620447e-09</td><td>-2.577891144105808e-09</td><td>9.631807087521811e-10</td><td>-7.974481221933553e-09</td><td>-1.7964791685245462e-09</td><td>9.862297421895885e-10</td><td>9.888223501282984e-10</td><td>7.141174659731995e-10</td><td>-5.591500357855527e-09</td><td>5.140234515633962e-09</td><td>3.241224150291534e-09</td><td>9.452893656552068e-10</td><td>-9.85796123611102e-10</td><td>7.401270948868599e-10</td><td>3.112668119631348e-10</td><td>-1.5522872064975481e-09</td><td>ISIM CV2 phase retrieval: NIRSpec/NIRSpec_ISIM1_Tricontagon_1.55um.fits</td><td></td></tr>\n",
       "<tr><td>NIRSpec</td><td>ISIM2</td><td>4.070126822</td><td>-7.162518004</td><td>1134.4</td><td>185.0</td><td>NIRSPEC_1</td><td>7.845222376725125e-08</td><td>1.2490815161786666e-08</td><td>-3.92695031728896e-09</td><td>3.802089380898017e-09</td><td>5.662836948771985e-08</td><td>-6.564401691322186e-09</td><td>-4.3971234611521795e-08</td><td>6.778605565678001e-09</td><td>-1.3329193695761767e-08</td><td>2.6593050409083517e-09</td><td>2.3538302968281243e-08</td><td>2.1276984987542492e-08</td><td>9.25813010557444e-09</td><td>4.2611498201191375e-09</td><td>-1.2330736982570526e-08</td><td>-4.723223050256397e-09</td><td>2.241067266661772e-09</td><td>1.1392314671078321e-08</td><td>4.298285678451313e-09</td><td>-9.274227183971445e-09</td><td>-1.2700210562519966e-09</td><td>-8.517311173164246e-10</td><td>4.916934228585217e-09</td><td>-2.2730373524654508e-10</td><td>-8.308119822372872e-10</td><td>-6.953176546359097e-10</td><td>3.4138597607081425e-09</td><td>4.800333436068576e-09</td><td>4.531465947650807e-09</td><td>-3.7273896884868e-09</td><td>-1.7666110349270943e-09</td><td>5.923844276310431e-09</td><td>-2.910632003856047e-09</td><td>-1.238444656673858e-09</td><td>2.520591957702714e-10</td><td>1.1938659551650896e-10</td><td>-1.202165256386946e-09</td><td>ISIM CV2 phase retrieval: NIRSpec/NIRSpec_ISIM2_Tricontagon_1.55um.fits</td><td></td></tr>\n",
       "<tr><td>NIRSpec</td><td>ISIM3</td><td>6.236961758</td><td>-9.431731308</td><td>1224.5</td><td>1967.2</td><td>NIRSPEC_1</td><td>9.49424001741343e-08</td><td>1.3568590851396013e-08</td><td>-1.1861080871213467e-08</td><td>2.939894367974372e-09</td><td>5.885988608992079e-08</td><td>-3.446209169111191e-08</td><td>-2.014770266872351e-08</td><td>6.351016310818877e-09</td><td>-3.4213646892164475e-08</td><td>4.2289310000167324e-08</td><td>3.5396443122138405e-09</td><td>2.850264056477834e-08</td><td>1.26094895173696e-08</td><td>6.8256138699664024e-09</td><td>-2.0440104824982736e-09</td><td>1.574733760341282e-09</td><td>-8.109892090809648e-09</td><td>3.6985322954794707e-09</td><td>-1.603166255405919e-08</td><td>-1.7379141288747535e-08</td><td>-7.348432742785694e-10</td><td>-5.3502328517664e-09</td><td>2.7877719198977287e-09</td><td>1.5654689412327363e-09</td><td>-7.126175710212344e-09</td><td>3.5915114930815947e-10</td><td>1.8397858798733036e-09</td><td>5.098791763578417e-09</td><td>3.1548194354846047e-09</td><td>-4.417222757161778e-09</td><td>2.465369698403117e-09</td><td>-2.532669612036933e-09</td><td>3.697928682281423e-09</td><td>-2.6104550959559204e-09</td><td>-7.717420833228847e-10</td><td>-2.7054214730271862e-09</td><td>-1.88637515675387e-09</td><td>ISIM CV2 phase retrieval: NIRSpec/NIRSpec_ISIM3_Tricontagon_1.55um.fits</td><td></td></tr>\n",
       "<tr><td>NIRSpec</td><td>ISIM4</td><td>8.317734217</td><td>-7.226274167</td><td>1276.1</td><td>236.2</td><td>NIRSPEC_2</td><td>1.3163101370241667e-07</td><td>1.3998777809952922e-08</td><td>-1.126826747331802e-08</td><td>-1.777451766533363e-08</td><td>9.282920061290047e-08</td><td>-2.5116559713595312e-08</td><td>-3.9538742389099604e-08</td><td>-6.220703201161492e-08</td><td>-3.882108934098951e-08</td><td>-4.063524620825602e-08</td><td>-5.9051736263408045e-09</td><td>5.89094747218698e-09</td><td>6.427016845690066e-09</td><td>-3.2962454749957386e-09</td><td>-7.0711289104962915e-09</td><td>-1.1593665206979557e-08</td><td>6.378437773994672e-10</td><td>1.817960700885583e-09</td><td>1.6495728911036682e-09</td><td>1.578375354800468e-08</td><td>-7.580074620472033e-09</td><td>-1.3992869840806265e-09</td><td>-7.922502298682294e-09</td><td>4.893002452161954e-09</td><td>-4.641825542834868e-09</td><td>4.281712059580891e-09</td><td>8.944917814516052e-10</td><td>8.35514094836725e-09</td><td>2.0948330382060746e-09</td><td>7.177754503925563e-09</td><td>4.162747707403583e-09</td><td>1.6020831295073813e-09</td><td>1.87838915344695e-09</td><td>-2.3153481236453446e-09</td><td>-3.3853936470761316e-09</td><td>-4.292084539460767e-09</td><td>3.554630947401746e-09</td><td>ISIM CV2 phase retrieval: NIRSpec/NIRSpec_ISIM4_Tricontagon_1.55um.fits</td><td></td></tr>\n",
       "<tr><td>NIRSpec</td><td>ISIM5</td><td>6.469618241</td><td>-5.102360352</td><td>1247.2</td><td>1838.9</td><td>NIRSPEC_2</td><td>1.3608065167475605e-07</td><td>2.0720938674515756e-08</td><td>-1.5478419046847363e-08</td><td>-1.1760490999534465e-09</td><td>1.0331925510503456e-07</td><td>-1.3885952010454422e-08</td><td>-5.219716878191631e-08</td><td>1.435147359506178e-09</td><td>-5.585736874618632e-08</td><td>7.761704751966607e-09</td><td>3.1186200704924803e-08</td><td>2.859805587789058e-08</td><td>2.9299879848469534e-08</td><td>6.451572632385206e-09</td><td>1.0409777568164689e-08</td><td>-4.599503311841716e-09</td><td>9.015031379899377e-09</td><td>-1.8451663089540634e-08</td><td>4.376863022011603e-09</td><td>1.5317122598125338e-09</td><td>-4.036675851210016e-09</td><td>-4.428834415649185e-09</td><td>-5.471278222523101e-09</td><td>5.7453898187892485e-09</td><td>2.39424454397404e-11</td><td>1.5736174414607066e-09</td><td>6.464745160481136e-10</td><td>8.664643856001048e-09</td><td>4.2953714533888885e-09</td><td>2.504486164701739e-09</td><td>2.903505086130805e-09</td><td>1.5413561639962702e-09</td><td>3.383507971962388e-10</td><td>-2.005279391599516e-09</td><td>-9.76105141648335e-10</td><td>-2.842529679065007e-09</td><td>-3.010529002215893e-10</td><td>ISIM CV2 phase retrieval: NIRSpec/NIRSpec_ISIM5_Tricontagon_1.55um.fits</td><td></td></tr>\n",
       "<tr><td>NIRSpec</td><td>Q1C</td><td>6.788646557</td><td>-7.3140855479999995</td><td>1970.5</td><td>765.4</td><td>NIRSPEC_2</td><td>8.640711569159014e-08</td><td>4.5490486096851125e-09</td><td>-6.30016712362856e-09</td><td>-9.678391645226977e-09</td><td>2.357090458397466e-09</td><td>-3.0680862407757734e-08</td><td>-4.7724077322555956e-08</td><td>-3.7687582475816495e-08</td><td>-2.370655276123827e-08</td><td>-2.8300357760470504e-08</td><td>1.4678593923928897e-08</td><td>1.683133538355599e-08</td><td>1.7312722428715808e-08</td><td>-3.23435288699256e-09</td><td>-4.268359656912307e-09</td><td>-1.176459992848537e-09</td><td>3.5771606781144255e-09</td><td>-3.267935984832522e-09</td><td>-5.2364441808494485e-09</td><td>1.7230178597656905e-08</td><td>-4.493018317834863e-09</td><td>-1.6187608984877132e-10</td><td>-3.579257332194921e-09</td><td>4.074468184256875e-09</td><td>-1.2874768009613126e-08</td><td>8.209618697115366e-10</td><td>1.1180952781849465e-09</td><td>5.188836699158453e-10</td><td>3.3725474126123534e-10</td><td>2.9949175039093456e-09</td><td>2.7022240360577552e-09</td><td>1.0645406573445432e-09</td><td>9.525688846818488e-10</td><td>-1.6676016775202976e-10</td><td>-2.1045251070816823e-09</td><td>-2.1744281142165953e-09</td><td>1.800117209425415e-09</td><td>ISIM CV2 phase retrieval: NIRSpec/NIRSpec_Q1C_Tricontagon_1.55um.fits</td><td></td></tr>\n",
       "<tr><td>NIRSpec</td><td>Q4C</td><td>5.759170543</td><td>-7.045597045</td><td>1926.2</td><td>781.1</td><td>NIRSPEC_1</td><td>5.815610812078224e-08</td><td>5.2489711267982e-09</td><td>-5.732827160867328e-09</td><td>6.6921114017498125e-09</td><td>1.0143836191738769e-08</td><td>-1.0332284939231303e-08</td><td>-3.143142862760935e-08</td><td>3.1693383584657654e-08</td><td>-2.326300194071307e-08</td><td>-8.499074265535e-09</td><td>6.123717272548213e-09</td><td>1.6929931422693202e-08</td><td>1.0580190567317722e-08</td><td>-5.605308760567634e-09</td><td>-4.9961927472728715e-09</td><td>-2.027659585371193e-09</td><td>4.7897155458415675e-09</td><td>-9.198323657354543e-10</td><td>-5.375351886632042e-09</td><td>2.863199719698988e-09</td><td>1.9616725491585512e-09</td><td>-3.971675746142428e-09</td><td>1.2161794289401725e-09</td><td>2.6227184436511557e-09</td><td>9.02305346950322e-10</td><td>1.3070525636876286e-10</td><td>2.141819821514465e-09</td><td>1.098897067505402e-09</td><td>7.142739727179683e-10</td><td>-3.926961928315083e-09</td><td>1.8963859666219626e-09</td><td>2.8885707550466e-09</td><td>1.2962873698055796e-09</td><td>-1.3275617609702052e-09</td><td>5.338717621611024e-10</td><td>-1.698375713143438e-10</td><td>-1.7423763016051105e-09</td><td>ISIM CV2 phase retrieval: NIRSpec/NIRSpec_Q4C_Tricontagon_1.55um.fits</td><td></td></tr>\n",
       "</table>"
      ],
      "text/plain": [
       "<Table length=93>\n",
       "instrument field_point_name ... comments\n",
       "                            ...         \n",
       " bytes10       bytes10      ... bytes240\n",
       "---------- ---------------- ... --------\n",
       "   Guider1          ASPAG1A ...         \n",
       "   Guider1           ASPAI7 ...         \n",
       "   Guider1           ASPAI8 ...         \n",
       "   Guider1           ASPAI9 ...         \n",
       "   Guider1           ISIM16 ...         \n",
       "   Guider1           ISIM23 ...         \n",
       "   Guider1           ISIM24 ...         \n",
       "   Guider1           ISIM25 ...         \n",
       "   Guider1           ISIM35 ...         \n",
       "       ...              ... ...      ...\n",
       "    NIRISS           ISIM19 ...         \n",
       "    NIRISS           ISIM37 ...         \n",
       "    NIRISS            MIMF3 ...         \n",
       "   NIRSpec            ISIM1 ...         \n",
       "   NIRSpec            ISIM2 ...         \n",
       "   NIRSpec            ISIM3 ...         \n",
       "   NIRSpec            ISIM4 ...         \n",
       "   NIRSpec            ISIM5 ...         \n",
       "   NIRSpec              Q1C ...         \n",
       "   NIRSpec              Q4C ...         "
      ]
     },
     "execution_count": 9,
     "metadata": {},
     "output_type": "execute_result"
    }
   ],
   "source": [
    "tbl_wfe"
   ]
  },
  {
   "cell_type": "code",
   "execution_count": 10,
   "metadata": {},
   "outputs": [
    {
     "data": {
      "text/html": [
       "<i>Table masked=True length=72</i>\n",
       "<table id=\"table120890919512\" class=\"table-striped table-bordered table-condensed\">\n",
       "<thead><tr><th>﻿instrument</th><th>field_point_name</th><th>V2</th><th>V3</th><th>PIXEL_X</th><th>PIXEL_Y</th><th>DETECTOR</th><th>WFE_RMS</th><th>Zernike_1</th><th>Zernike_2</th><th>Zernike_3</th><th>Zernike_4</th><th>Zernike_5</th><th>Zernike_6</th><th>Zernike_7</th><th>Zernike_8</th><th>Zernike_9</th><th>Zernike_10</th><th>Zernike_11</th><th>Zernike_12</th><th>Zernike_13</th><th>Zernike_14</th><th>Zernike_15</th><th>Zernike_16</th><th>Zernike_17</th><th>Zernike_18</th><th>Zernike_19</th><th>Zernike_20</th><th>Zernike_21</th><th>Zernike_22</th><th>Zernike_23</th><th>Zernike_24</th><th>Zernike_25</th><th>Zernike_26</th><th>Zernike_27</th><th>Zernike_28</th><th>Zernike_29</th><th>Zernike_30</th><th>Zernike_31</th><th>Zernike_32</th><th>Zernike_33</th><th>Zernike_34</th><th>Zernike_35</th><th>Zernike_36</th><th>origin</th><th>comments</th></tr></thead>\n",
       "<thead><tr><th>str9</th><th>str8</th><th>float64</th><th>float64</th><th>int64</th><th>int64</th><th>str11</th><th>float64</th><th>float64</th><th>float64</th><th>float64</th><th>float64</th><th>float64</th><th>float64</th><th>float64</th><th>float64</th><th>float64</th><th>float64</th><th>float64</th><th>float64</th><th>float64</th><th>float64</th><th>float64</th><th>float64</th><th>float64</th><th>float64</th><th>float64</th><th>float64</th><th>float64</th><th>float64</th><th>float64</th><th>float64</th><th>float64</th><th>float64</th><th>float64</th><th>float64</th><th>float64</th><th>float64</th><th>float64</th><th>float64</th><th>float64</th><th>float64</th><th>float64</th><th>float64</th><th>str11</th><th>str54</th></tr></thead>\n",
       "<tr><td>NIRCamLWA</td><td>ISIM26</td><td>0.869</td><td>-8.777</td><td>535</td><td>-231</td><td>NIRCAMALW</td><td>2.51e-07</td><td>-1.4e-08</td><td>-8.83e-10</td><td>1.52e-09</td><td>2.22e-07</td><td>-1.01e-08</td><td>-4.91e-08</td><td>1.22e-07</td><td>-1.22e-09</td><td>-1.22e-09</td><td>3.87e-10</td><td>1.39e-09</td><td>-1.13e-09</td><td>-1.58e-09</td><td>3.17e-11</td><td>4.41e-10</td><td>4.82e-10</td><td>-6.2e-09</td><td>5.98e-10</td><td>-2.73e-10</td><td>4.53e-11</td><td>1.42e-11</td><td>-9.53e-09</td><td>-3.96e-10</td><td>-3.75e-10</td><td>-7.74e-11</td><td>-2.78e-12</td><td>5.17e-13</td><td>-1.65e-12</td><td>1.02e-10</td><td>-1.08e-10</td><td>3.65e-11</td><td>-7.62e-11</td><td>9.69e-14</td><td>-1.62e-13</td><td>-6.14e-13</td><td>-1.94e-13</td><td>Zemax Model</td><td>--</td></tr>\n",
       "<tr><td>NIRCamLWA</td><td>ISIM27</td><td>0.453</td><td>-8.389</td><td>140</td><td>127</td><td>NIRCAMALW</td><td>2.17e-07</td><td>-1.15e-08</td><td>-4.09e-10</td><td>2.34e-09</td><td>1.76e-07</td><td>-1.86e-08</td><td>-5.9e-08</td><td>1.2e-07</td><td>-4.35e-09</td><td>-1.13e-09</td><td>-5.56e-11</td><td>1.82e-09</td><td>8.81e-10</td><td>-2.37e-09</td><td>-2.83e-10</td><td>1.11e-10</td><td>-1.01e-09</td><td>-6.04e-09</td><td>4.78e-10</td><td>2.81e-10</td><td>-1.19e-11</td><td>2.8e-11</td><td>-9.62e-09</td><td>-6e-10</td><td>-2.97e-11</td><td>-1.59e-11</td><td>5.38e-11</td><td>9.37e-13</td><td>-2.58e-13</td><td>6.13e-11</td><td>-2.61e-10</td><td>-3.37e-11</td><td>-5.31e-11</td><td>-1.62e-13</td><td>3.88e-13</td><td>-4.85e-13</td><td>-2.91e-13</td><td>Zemax Model</td><td>--</td></tr>\n",
       "<tr><td>NIRCamLWA</td><td>ISIM28</td><td>1.598</td><td>-9.219</td><td>1218</td><td>-639</td><td>NIRCAMALW</td><td>2.96e-07</td><td>-1.62e-08</td><td>-2.57e-09</td><td>2.73e-09</td><td>3.21e-07</td><td>-2.31e-08</td><td>-3.68e-08</td><td>1.27e-07</td><td>4.18e-09</td><td>-3.07e-09</td><td>-3.72e-11</td><td>1.92e-09</td><td>-4.84e-09</td><td>2.29e-09</td><td>9.48e-10</td><td>-7.44e-11</td><td>2.74e-09</td><td>-5.21e-09</td><td>-1.19e-10</td><td>-1.13e-09</td><td>-1.9e-11</td><td>-9.53e-12</td><td>-9.38e-09</td><td>1.24e-10</td><td>-7.65e-10</td><td>1.97e-11</td><td>-5.51e-11</td><td>1.07e-12</td><td>-5.87e-11</td><td>1.87e-10</td><td>9.01e-11</td><td>5.35e-11</td><td>1.14e-11</td><td>5.34e-11</td><td>1.23e-12</td><td>-2.07e-11</td><td>-9.69e-14</td><td>Zemax Model</td><td>--</td></tr>\n",
       "<tr><td>NIRCamLWA</td><td>ISIM29</td><td>2.404</td><td>-8.077</td><td>1984</td><td>421</td><td>NIRCAMALW</td><td>1.43e-07</td><td>-1.22e-08</td><td>1.15e-09</td><td>-1.04e-09</td><td>7.48e-08</td><td>1.74e-08</td><td>-2.13e-08</td><td>1.18e-07</td><td>5.16e-09</td><td>-1.71e-09</td><td>3.69e-10</td><td>4.08e-09</td><td>1.01e-11</td><td>1.48e-09</td><td>-6.33e-11</td><td>4.92e-11</td><td>1.11e-09</td><td>-8.33e-10</td><td>-7.64e-11</td><td>2.09e-10</td><td>8.56e-12</td><td>-7.43e-13</td><td>-9.33e-09</td><td>4.47e-10</td><td>1.64e-10</td><td>-1.3e-11</td><td>1.69e-11</td><td>-3.55e-13</td><td>6.46e-14</td><td>1.27e-10</td><td>2.99e-10</td><td>-2.76e-11</td><td>5.94e-12</td><td>1.94e-13</td><td>-4.2e-13</td><td>-1.94e-13</td><td>2.26e-13</td><td>Zemax Model</td><td>--</td></tr>\n",
       "<tr><td>NIRCamLWA</td><td>ISIM30</td><td>1.277</td><td>-7.263</td><td>910</td><td>1194</td><td>NIRCAMALW</td><td>1.35e-07</td><td>-1.22e-08</td><td>7.09e-11</td><td>4.22e-11</td><td>-6.53e-08</td><td>-3.64e-09</td><td>3.8e-08</td><td>1.14e-07</td><td>-8.59e-10</td><td>-9.08e-10</td><td>1.48e-10</td><td>5.11e-09</td><td>-8.49e-10</td><td>3.01e-10</td><td>3.39e-12</td><td>5.49e-13</td><td>-2.02e-09</td><td>-2.88e-10</td><td>3.45e-11</td><td>9.01e-12</td><td>-2.91e-13</td><td>-1.94e-13</td><td>-9.56e-09</td><td>3.33e-12</td><td>1.9e-10</td><td>9.69e-14</td><td>-1.94e-13</td><td>0.0</td><td>-1.29e-13</td><td>-1.1e-10</td><td>-9e-11</td><td>2.45e-12</td><td>1.87e-12</td><td>-3.23e-14</td><td>0.0</td><td>3.23e-14</td><td>0.0</td><td>Zemax Model</td><td>--</td></tr>\n",
       "<tr><td>NIRCamLWA</td><td>ISIM40</td><td>0.878</td><td>-7.68</td><td>533</td><td>796</td><td>NIRCAMALW</td><td>1.2e-07</td><td>-1.4e-08</td><td>6.78e-10</td><td>1.38e-09</td><td>-8.57e-10</td><td>-2.13e-08</td><td>-2.17e-09</td><td>1.17e-07</td><td>-2.07e-09</td><td>-1.45e-09</td><td>1.19e-10</td><td>4.03e-09</td><td>-2.39e-10</td><td>-1.03e-10</td><td>-8.14e-12</td><td>-1.16e-12</td><td>-1.44e-09</td><td>-2.74e-09</td><td>3.12e-11</td><td>6.11e-11</td><td>-6.46e-13</td><td>-5.49e-13</td><td>-9.68e-09</td><td>-1.57e-10</td><td>1.82e-10</td><td>2.97e-12</td><td>1.65e-12</td><td>0.0</td><td>3.23e-14</td><td>-3.2e-12</td><td>-2.18e-10</td><td>-4.78e-12</td><td>2.65e-12</td><td>1.29e-13</td><td>-3.23e-14</td><td>-1.62e-13</td><td>-1.29e-13</td><td>Zemax Model</td><td>--</td></tr>\n",
       "<tr><td>NIRCamLWA</td><td>ISIM41</td><td>2.0</td><td>-8.792</td><td>1597</td><td>-246</td><td>NIRCAMALW</td><td>2.32e-07</td><td>-1.65e-08</td><td>-1.16e-09</td><td>1.31e-09</td><td>2.01e-07</td><td>-1.6e-08</td><td>-3.59e-08</td><td>1.22e-07</td><td>4.72e-09</td><td>-1.36e-09</td><td>-3.85e-11</td><td>2.47e-09</td><td>-2.03e-09</td><td>2.86e-09</td><td>1.29e-10</td><td>-3.13e-10</td><td>2.27e-09</td><td>-3.8e-09</td><td>-4.81e-10</td><td>-3.4e-10</td><td>-3.38e-11</td><td>2.84e-12</td><td>-9.39e-09</td><td>4.15e-10</td><td>-4.13e-10</td><td>5.6e-11</td><td>-1.22e-11</td><td>-1.94e-13</td><td>-1e-12</td><td>1.89e-10</td><td>1.74e-10</td><td>3.74e-11</td><td>5.4e-11</td><td>-4.2e-13</td><td>5.17e-13</td><td>-5.49e-13</td><td>9.69e-14</td><td>Zemax Model</td><td>--</td></tr>\n",
       "<tr><td>NIRCamLWA</td><td>ISIM42</td><td>1.985</td><td>-7.678</td><td>1588</td><td>800</td><td>NIRCAMALW</td><td>1.21e-07</td><td>-1.3e-08</td><td>-6.94e-10</td><td>-1.74e-09</td><td>-2.01e-08</td><td>2.16e-08</td><td>1.05e-08</td><td>1.16e-07</td><td>2.69e-09</td><td>-1.36e-09</td><td>-1.39e-10</td><td>4.76e-09</td><td>-4.31e-10</td><td>4.09e-10</td><td>-9.37e-13</td><td>6.14e-12</td><td>-5.92e-10</td><td>-2.97e-10</td><td>1.51e-11</td><td>4.14e-11</td><td>3.55e-13</td><td>-8.08e-13</td><td>-9.44e-09</td><td>1.78e-10</td><td>2.05e-10</td><td>-3.97e-12</td><td>1.1e-12</td><td>0.0</td><td>9.69e-14</td><td>3.45e-11</td><td>1.71e-10</td><td>-5.3e-12</td><td>-3.49e-12</td><td>1.29e-13</td><td>6.46e-14</td><td>-6.46e-14</td><td>1.62e-13</td><td>Zemax Model</td><td>--</td></tr>\n",
       "<tr><td>NIRCamLWA</td><td>MIMF5</td><td>1.158</td><td>-8.604</td><td>805</td><td>-70</td><td>NIRCAMALW</td><td>1.93e-07</td><td>-1.74e-08</td><td>-1.22e-09</td><td>2.52e-09</td><td>1.5e-07</td><td>-1.16e-08</td><td>-3.66e-08</td><td>1.2e-07</td><td>4.56e-10</td><td>-1.16e-09</td><td>-5.78e-11</td><td>1.92e-09</td><td>-1.07e-09</td><td>-2.25e-10</td><td>1.29e-10</td><td>1.79e-10</td><td>6.45e-10</td><td>-5.29e-09</td><td>2.55e-10</td><td>-2.95e-10</td><td>1.51e-11</td><td>-6.36e-12</td><td>-9.51e-09</td><td>-1.83e-10</td><td>-3.45e-10</td><td>-2.71e-11</td><td>-1.76e-11</td><td>3.55e-13</td><td>-1.36e-12</td><td>1.59e-10</td><td>-6.14e-11</td><td>3.45e-11</td><td>-2.95e-11</td><td>1.62e-13</td><td>9.69e-14</td><td>-5.17e-13</td><td>-9.69e-14</td><td>Zemax Model</td><td>--</td></tr>\n",
       "<tr><td>NIRCamLWA</td><td>MIMF6</td><td>0.444</td><td>-9.225</td><td>144</td><td>-643</td><td>NIRCAMALW</td><td>3.46e-07</td><td>-8.51e-09</td><td>-2.89e-09</td><td>1.58e-09</td><td>4.03e-07</td><td>2.53e-08</td><td>-7.38e-08</td><td>1.31e-07</td><td>-8.37e-09</td><td>-1.3e-09</td><td>4.28e-09</td><td>2e-09</td><td>-2.65e-09</td><td>-6.35e-09</td><td>-7.29e-11</td><td>1.25e-09</td><td>-1.08e-10</td><td>-7.25e-09</td><td>1.24e-09</td><td>-4.94e-10</td><td>1.23e-10</td><td>3.4e-10</td><td>-9.68e-09</td><td>-5.02e-10</td><td>-5.65e-10</td><td>-2.39e-10</td><td>2.4e-10</td><td>-4.52e-11</td><td>-6.46e-11</td><td>3.26e-11</td><td>-6.75e-11</td><td>-9.22e-11</td><td>-1.97e-10</td><td>5.47e-11</td><td>-3.68e-11</td><td>-1.1e-11</td><td>1.65e-11</td><td>Zemax Model</td><td>--</td></tr>\n",
       "<tr><td>...</td><td>...</td><td>...</td><td>...</td><td>...</td><td>...</td><td>...</td><td>...</td><td>...</td><td>...</td><td>...</td><td>...</td><td>...</td><td>...</td><td>...</td><td>...</td><td>...</td><td>...</td><td>...</td><td>...</td><td>...</td><td>...</td><td>...</td><td>...</td><td>...</td><td>...</td><td>...</td><td>...</td><td>...</td><td>...</td><td>...</td><td>...</td><td>...</td><td>...</td><td>...</td><td>...</td><td>...</td><td>...</td><td>...</td><td>...</td><td>...</td><td>...</td><td>...</td><td>...</td><td>...</td><td>...</td></tr>\n",
       "<tr><td>NIRCamSWB</td><td>MIMF5_B</td><td>-1.158</td><td>-8.604</td><td>429</td><td>55</td><td>NIRCAMBSW_4</td><td>2.52e-07</td><td>1.49e-09</td><td>2.81e-09</td><td>3.93e-10</td><td>2.31e-07</td><td>-1.8e-08</td><td>-4.27e-08</td><td>1.15e-07</td><td>3.69e-09</td><td>-1.34e-09</td><td>1.53e-10</td><td>-6.66e-09</td><td>-1.13e-10</td><td>5.59e-10</td><td>2.2e-10</td><td>3.47e-10</td><td>4.57e-10</td><td>-1.5e-09</td><td>2.76e-10</td><td>-2.95e-10</td><td>1.15e-10</td><td>-3.92e-11</td><td>-1.66e-09</td><td>-7.45e-11</td><td>-1.32e-10</td><td>-1.24e-10</td><td>-7.98e-11</td><td>2.97e-13</td><td>-2.2e-12</td><td>-6.67e-11</td><td>1.59e-11</td><td>9.04e-11</td><td>-8.36e-11</td><td>2.12e-13</td><td>-1.7e-13</td><td>-5.72e-13</td><td>-1.27e-13</td><td>Zemax Model</td><td>--</td></tr>\n",
       "<tr><td>NIRCamSWB</td><td>MIMF6_B</td><td>-0.444</td><td>-9.225</td><td>1769</td><td>-1113</td><td>NIRCAMBSW_4</td><td>2.94e-07</td><td>4.03e-09</td><td>2.14e-10</td><td>3.26e-09</td><td>3.67e-07</td><td>-3.68e-08</td><td>-9.33e-08</td><td>1.1e-07</td><td>7.15e-09</td><td>2.17e-10</td><td>-1.63e-09</td><td>-1.56e-08</td><td>4.1e-09</td><td>6.4e-09</td><td>2.08e-09</td><td>-3.69e-09</td><td>4.55e-09</td><td>-8.6e-09</td><td>-4.3e-09</td><td>7.68e-11</td><td>9.98e-10</td><td>1.78e-09</td><td>-4.54e-09</td><td>2.53e-09</td><td>1.48e-09</td><td>-1.16e-09</td><td>7.11e-10</td><td>-1.26e-10</td><td>-7.33e-11</td><td>-1e-09</td><td>5.94e-10</td><td>-4.76e-11</td><td>-5.66e-10</td><td>6.51e-11</td><td>-2.98e-11</td><td>-9.75e-12</td><td>4.77e-11</td><td>Zemax Model</td><td>--</td></tr>\n",
       "<tr><td>NIRCamSWB</td><td>MIMF7_B</td><td>-2.427</td><td>-9.211</td><td>265</td><td>-1128</td><td>NIRCAMBSW_2</td><td>2.98e-07</td><td>3.85e-09</td><td>4.1e-09</td><td>3.05e-09</td><td>3.24e-07</td><td>6.62e-09</td><td>-6.89e-08</td><td>1.15e-07</td><td>2.09e-09</td><td>3.3e-10</td><td>-2.98e-09</td><td>-1.02e-08</td><td>1.71e-09</td><td>-5.69e-10</td><td>3.82e-10</td><td>1.6e-09</td><td>-1.89e-09</td><td>-5.09e-09</td><td>2.19e-09</td><td>4.62e-10</td><td>-8.86e-10</td><td>8.83e-10</td><td>-3.52e-09</td><td>-1.49e-09</td><td>1.16e-09</td><td>9.17e-10</td><td>2.69e-10</td><td>3.6e-11</td><td>4.69e-11</td><td>-8.24e-10</td><td>-4.01e-10</td><td>8.82e-11</td><td>4.53e-10</td><td>-1.23e-11</td><td>-9.12e-12</td><td>2.69e-11</td><td>-2.14e-11</td><td>Zemax Model</td><td>--</td></tr>\n",
       "<tr><td>NIRCamSWB</td><td>MIMF8_B</td><td>-2.397</td><td>-7.26</td><td>1814</td><td>1620</td><td>NIRCAMBSW_1</td><td>1.61e-07</td><td>4.42e-09</td><td>4.26e-09</td><td>-5.88e-10</td><td>9.21e-08</td><td>4.05e-08</td><td>3.79e-08</td><td>1.22e-07</td><td>-1.49e-09</td><td>-1.72e-09</td><td>-3.13e-10</td><td>-4.26e-09</td><td>-9.61e-10</td><td>2.84e-10</td><td>8.2e-11</td><td>-2.27e-10</td><td>-1.24e-09</td><td>1.29e-09</td><td>2.38e-10</td><td>-2.62e-10</td><td>-4.85e-12</td><td>4.32e-11</td><td>-1.53e-09</td><td>-1.21e-10</td><td>2.2e-10</td><td>5.94e-11</td><td>-2.25e-11</td><td>-7.63e-13</td><td>2.65e-12</td><td>-1.36e-11</td><td>4.99e-11</td><td>5.13e-11</td><td>-3.69e-11</td><td>-7.84e-13</td><td>1.8e-12</td><td>1.48e-13</td><td>3.39e-13</td><td>Zemax Model</td><td>--</td></tr>\n",
       "<tr><td>NIRCamSWB</td><td>MIMF9_B</td><td>-0.521</td><td>-7.321</td><td>386</td><td>1730</td><td>NIRCAMBSW_3</td><td>1.78e-07</td><td>3.4e-09</td><td>-6.53e-10</td><td>9.29e-11</td><td>1.3e-07</td><td>-2.73e-08</td><td>1.41e-08</td><td>1.23e-07</td><td>3.25e-09</td><td>-1.78e-09</td><td>7.2e-11</td><td>-3.7e-09</td><td>-1.1e-09</td><td>7.57e-10</td><td>1.16e-10</td><td>1.04e-10</td><td>9.27e-10</td><td>6.11e-10</td><td>-2.44e-10</td><td>-1.39e-10</td><td>1.62e-11</td><td>1.75e-11</td><td>-1.63e-09</td><td>8.27e-11</td><td>2.46e-10</td><td>-2.53e-11</td><td>-3.01e-11</td><td>1.48e-13</td><td>1.97e-12</td><td>-2.18e-11</td><td>-9.25e-11</td><td>2.33e-11</td><td>3.73e-11</td><td>-2.97e-13</td><td>-1.19e-12</td><td>6.36e-14</td><td>-3.39e-13</td><td>Zemax Model</td><td>--</td></tr>\n",
       "<tr><td>NIRCamSWB</td><td>ZSWB_B</td><td>-0.787</td><td>-6.741</td><td>882</td><td>600</td><td>NIRCAMBSW_3</td><td>1.58e-07</td><td>1.28e-09</td><td>1.88e-09</td><td>1.47e-09</td><td>7.27e-08</td><td>-2.84e-08</td><td>6.27e-08</td><td>1.23e-07</td><td>7.21e-10</td><td>-1.09e-09</td><td>1.18e-09</td><td>-3.22e-09</td><td>-9.14e-10</td><td>6.7e-10</td><td>-1.96e-10</td><td>-1.18e-10</td><td>2.85e-10</td><td>1.67e-09</td><td>2.6e-10</td><td>-1.63e-10</td><td>-8.52e-12</td><td>-2.96e-11</td><td>-1.56e-09</td><td>2.34e-10</td><td>-2.64e-11</td><td>2.06e-11</td><td>4.55e-11</td><td>-8.27e-13</td><td>-1.78e-12</td><td>-5.55e-11</td><td>-4.88e-11</td><td>2.25e-11</td><td>-5.01e-11</td><td>-8.9e-13</td><td>1.21e-12</td><td>3.39e-13</td><td>-2.76e-13</td><td>Zemax Model</td><td>These V2/V3 coordinates are not centerd on the B masks</td></tr>\n",
       "<tr><td>NIRCamSWB</td><td>ZLWB_B</td><td>-1.127</td><td>-6.745</td><td>1545</td><td>598</td><td>NIRCAMBSW_3</td><td>1.56e-07</td><td>1.28e-09</td><td>1.88e-09</td><td>1.47e-09</td><td>6.75e-08</td><td>-5.72e-09</td><td>6.66e-08</td><td>1.24e-07</td><td>7.2e-10</td><td>-5.87e-10</td><td>5.27e-10</td><td>-3.24e-09</td><td>-7.17e-10</td><td>5.18e-10</td><td>3.03e-11</td><td>-1.39e-10</td><td>2.33e-12</td><td>1.98e-09</td><td>1.82e-10</td><td>7.44e-11</td><td>1.21e-11</td><td>-2.76e-12</td><td>-1.61e-09</td><td>1.39e-10</td><td>-1.37e-10</td><td>2.42e-11</td><td>-3.6e-12</td><td>-8.48e-13</td><td>-6.36e-13</td><td>-8.97e-11</td><td>-3.69e-11</td><td>-1.72e-11</td><td>-2.84e-11</td><td>2.12e-13</td><td>6.36e-13</td><td>2.12e-13</td><td>0.0</td><td>Zemax Model</td><td>These V2/V3 coordinates are not centerd on the B masks</td></tr>\n",
       "<tr><td>NIRCamSWB</td><td>Z430R_B</td><td>-1.454</td><td>-6.753</td><td>-12</td><td>609</td><td>NIRCAMBSW_1</td><td>1.55e-07</td><td>1.28e-09</td><td>1.88e-09</td><td>1.47e-09</td><td>6.18e-08</td><td>1.19e-08</td><td>6.96e-08</td><td>1.24e-07</td><td>2.51e-10</td><td>-4.37e-10</td><td>7.42e-13</td><td>-3.36e-09</td><td>-6.23e-10</td><td>6.5e-10</td><td>1.17e-10</td><td>1.71e-11</td><td>-4.32e-10</td><td>2.14e-09</td><td>-2.14e-11</td><td>1.56e-10</td><td>-3.14e-12</td><td>9.35e-12</td><td>-1.62e-09</td><td>-1.68e-11</td><td>-1.74e-10</td><td>-5.41e-12</td><td>-1.97e-11</td><td>2.54e-13</td><td>-4.24e-13</td><td>-9.6e-11</td><td>9.54e-13</td><td>-2.89e-11</td><td>5.7e-12</td><td>5.94e-13</td><td>-2.33e-13</td><td>3.39e-13</td><td>2.12e-14</td><td>Zemax Model</td><td>These V2/V3 coordinates are not centerd on the B masks</td></tr>\n",
       "<tr><td>NIRCamSWB</td><td>Z335R_B</td><td>-1.792</td><td>-6.759</td><td>648</td><td>627</td><td>NIRCAMBSW_1</td><td>1.57e-07</td><td>1.28e-09</td><td>1.88e-09</td><td>1.47e-09</td><td>5.68e-08</td><td>2.86e-08</td><td>7.29e-08</td><td>1.23e-07</td><td>-2.68e-10</td><td>-4.81e-10</td><td>-5.63e-10</td><td>-3.64e-09</td><td>-7.31e-10</td><td>7.56e-10</td><td>-1.14e-11</td><td>1.57e-10</td><td>-8.19e-10</td><td>2.11e-09</td><td>-2.13e-10</td><td>3.59e-11</td><td>-1.47e-11</td><td>-1.19e-11</td><td>-1.57e-09</td><td>-1.59e-10</td><td>-1.18e-10</td><td>-3.34e-11</td><td>7.4e-12</td><td>1.21e-12</td><td>-1.23e-12</td><td>-7.3e-11</td><td>3.02e-11</td><td>-1.1e-11</td><td>4.05e-11</td><td>-8.48e-14</td><td>-1.06e-12</td><td>3.39e-13</td><td>1.48e-13</td><td>Zemax Model</td><td>These V2/V3 coordinates are not centerd on the B masks</td></tr>\n",
       "<tr><td>NIRCamSWB</td><td>Z210R_B</td><td>-2.121</td><td>-6.754</td><td>1292</td><td>626</td><td>NIRCAMBSW_1</td><td>1.61e-07</td><td>1.28e-09</td><td>1.88e-09</td><td>1.47e-09</td><td>5.21e-08</td><td>4.85e-08</td><td>7.58e-08</td><td>1.23e-07</td><td>-3.59e-10</td><td>-9.49e-10</td><td>-1.29e-09</td><td>-3.92e-09</td><td>-8.63e-10</td><td>5.53e-10</td><td>-2.6e-10</td><td>9.99e-11</td><td>-1.01e-09</td><td>1.96e-09</td><td>-2.61e-10</td><td>-2.08e-10</td><td>2.16e-11</td><td>-4.73e-11</td><td>-1.51e-09</td><td>-2.12e-10</td><td>-9.05e-12</td><td>-2.28e-11</td><td>7.19e-11</td><td>4.88e-13</td><td>-2.63e-12</td><td>-2.05e-11</td><td>1.76e-11</td><td>3.67e-11</td><td>6.42e-11</td><td>-1.67e-12</td><td>-1.34e-12</td><td>3.6e-13</td><td>3.18e-13</td><td>Zemax Model</td><td>These V2/V3 coordinates are not centerd on the B masks</td></tr>\n",
       "</table>"
      ],
      "text/plain": [
       "<Table masked=True length=72>\n",
       "﻿instrument ...                        comments                       \n",
       "    str9    ...                         str54                         \n",
       "----------- ... ------------------------------------------------------\n",
       "  NIRCamLWA ...                                                     --\n",
       "  NIRCamLWA ...                                                     --\n",
       "  NIRCamLWA ...                                                     --\n",
       "  NIRCamLWA ...                                                     --\n",
       "  NIRCamLWA ...                                                     --\n",
       "  NIRCamLWA ...                                                     --\n",
       "  NIRCamLWA ...                                                     --\n",
       "  NIRCamLWA ...                                                     --\n",
       "  NIRCamLWA ...                                                     --\n",
       "  NIRCamLWA ...                                                     --\n",
       "        ... ...                                                    ...\n",
       "  NIRCamSWB ...                                                     --\n",
       "  NIRCamSWB ...                                                     --\n",
       "  NIRCamSWB ...                                                     --\n",
       "  NIRCamSWB ...                                                     --\n",
       "  NIRCamSWB ...                                                     --\n",
       "  NIRCamSWB ... These V2/V3 coordinates are not centerd on the B masks\n",
       "  NIRCamSWB ... These V2/V3 coordinates are not centerd on the B masks\n",
       "  NIRCamSWB ... These V2/V3 coordinates are not centerd on the B masks\n",
       "  NIRCamSWB ... These V2/V3 coordinates are not centerd on the B masks\n",
       "  NIRCamSWB ... These V2/V3 coordinates are not centerd on the B masks"
      ]
     },
     "execution_count": 10,
     "metadata": {},
     "output_type": "execute_result"
    }
   ],
   "source": [
    "tbl_coron"
   ]
  },
  {
   "cell_type": "markdown",
   "metadata": {},
   "source": [
    "# V2/V3 Limits"
   ]
  },
  {
   "cell_type": "code",
   "execution_count": 4,
   "metadata": {},
   "outputs": [],
   "source": [
    "def get_v2v3_limits():\n",
    "    \"\"\"\n",
    "    V2/V3 Limits for a given module stored within an dictionary\n",
    "    \"\"\"\n",
    "    \n",
    "    names = ['SW', 'LW', 'SWA', 'LWA', 'SWB', 'LWB']\n",
    "    apnames = ['NRCALL_FULL', 'NRCALL_FULL', \n",
    "               ['NRCA1_FULL', 'NRCA2_FULL', 'NRCA3_FULL', 'NRCA4_FULL'], 'NRCA5_FULL', \n",
    "               ['NRCB1_FULL', 'NRCB2_FULL', 'NRCB3_FULL', 'NRCB4_FULL'], 'NRCB5_FULL']\n",
    "    \n",
    "    siaf = Siaf('NIRCam')\n",
    "    siaf.generate_toc()\n",
    "\n",
    "    v2v3_limits = {}\n",
    "    for i, name in enumerate(names):\n",
    "       \n",
    "        # Do all four apertures for each SWA & SWB\n",
    "        if (name=='SWA') or (name=='SWB'):\n",
    "            v2_vals = []\n",
    "            v3_vals = []\n",
    "            for apsw_name in apnames[i]:\n",
    "                ap = siaf[apsw_name]\n",
    "                v2_ref, v3_ref = ap.closed_polygon_points('tel', rederive=False)\n",
    "                v2_vals.append(v2_ref)\n",
    "                v3_vals.append(v3_ref)\n",
    "            v2_ref = np.array(v2_vals).flatten()\n",
    "            v3_ref = np.array(v3_vals).flatten()\n",
    "        else:\n",
    "            ap = siaf[apnames[i]]\n",
    "            v2_ref, v3_ref = ap.closed_polygon_points('tel', rederive=False)\n",
    "            \n",
    "        # Add a 10\" border margin\n",
    "        v2_min = int(v2_ref.min()-10)\n",
    "        v2_max = int(v2_ref.max()+10)\n",
    "        v3_min = int(v3_ref.min()-10) + 50  # Offset by 50\"\n",
    "        v3_max = int(v3_ref.max()+10) + 50  # Offset by 50\"\n",
    "            \n",
    "        v2v3_limits[name] = {'V2': [v2_min, v2_max],\n",
    "                             'V3': [v3_min, v3_max]}\n",
    "        \n",
    "    return v2v3_limits"
   ]
  },
  {
   "cell_type": "code",
   "execution_count": 5,
   "metadata": {},
   "outputs": [],
   "source": [
    "# V2/V3 Limits stored in a dictionary\n",
    "v2v3_limits = get_v2v3_limits()"
   ]
  },
  {
   "cell_type": "markdown",
   "metadata": {},
   "source": [
    "# Interpolate within bounds of CV3 measurements"
   ]
  },
  {
   "cell_type": "code",
   "execution_count": 6,
   "metadata": {},
   "outputs": [],
   "source": [
    "def gen_cv3_zgrid(ztable_full, v2v3_limits, mod, zkey):\n",
    "    \"\"\"Gridded data from CV3 only\"\"\"\n",
    "    \n",
    "    ind_nrc = ['NIRCam'+mod in row['instrument'] for row in ztable_full]\n",
    "    ind_nrc = np.where(ind_nrc)\n",
    "\n",
    "    # Grab V2/V3 coordinates\n",
    "    # In units of arcmin\n",
    "    v2 = ztable_full[ind_nrc]['V2']\n",
    "    v3 = ztable_full[ind_nrc]['V3']\n",
    "\n",
    "    # Create finer mesh grid\n",
    "    v2_lims = np.array(v2v3_limits[mod]['V2']) / 60.\n",
    "    v3_lims = np.array(v2v3_limits[mod]['V3']) / 60.\n",
    "    dstep = 1. / 60. # 1\" steps\n",
    "    xgrid = np.arange(v2_lims[0], v2_lims[1]+dstep, dstep)\n",
    "    ygrid = np.arange(v3_lims[0], v3_lims[1]+dstep, dstep)\n",
    "    \n",
    "    X, Y = np.meshgrid(xgrid,ygrid)\n",
    "    \n",
    "    ztable = ztable_full[ind_nrc]\n",
    "    zvals = ztable[zkey]\n",
    "\n",
    "    # There will be some NaNs along the outer borders\n",
    "    zgrid = griddata((v2, v3), zvals, (X, Y), method='cubic')\n",
    "    \n",
    "    return xgrid, ygrid, zgrid\n"
   ]
  },
  {
   "cell_type": "code",
   "execution_count": 7,
   "metadata": {},
   "outputs": [],
   "source": [
    "mod = 'LWA'\n",
    "xgrid, ygrid, zgrid = gen_cv3_zgrid(ztable_full, v2v3_limits, mod, 'Zernike_4')"
   ]
  },
  {
   "cell_type": "code",
   "execution_count": 8,
   "metadata": {},
   "outputs": [
    {
     "data": {
      "image/png": "[encoded data removed]",
      "text/plain": [
       "<Figure size 576x360 with 1 Axes>"
      ]
     },
     "metadata": {
      "needs_background": "light"
     },
     "output_type": "display_data"
    }
   ],
   "source": [
    "fig, ax = plt.subplots(1,1, figsize=(8,5))\n",
    "\n",
    "zmin, zmax = np.nanmin(zgrid), np.nanmax(zgrid)\n",
    "extent = np.array([xgrid.min(),xgrid.max(),ygrid.min(),ygrid.max()]) * 60\n",
    "ax.imshow(zgrid, extent=extent, vmin=zmin, vmax=zmax)\n",
    "\n",
    "siaf = Siaf('NIRCam')\n",
    "ap = siaf['NRCA5_FULL_MASK430R']\n",
    "ap.plot(ax=ax, fill=False, color='C1')\n",
    "\n",
    "fig.tight_layout()"
   ]
  },
  {
   "cell_type": "markdown",
   "metadata": {},
   "source": [
    "# Extrapolate using RegularGridInterpolator"
   ]
  },
  {
   "cell_type": "code",
   "execution_count": 9,
   "metadata": {},
   "outputs": [],
   "source": [
    "# To extrapolate outside the measured field points, we proceed \n",
    "# in two steps.  This first creates a fine-meshed cubic fit \n",
    "# over the known field points, fixes any NaN's using \n",
    "# RegularGridInterpolator, then again uses  RegularGridInterpolator \n",
    "# on the fixed data to extrapolate the requested field point.\n",
    "\n",
    "# In principle, the first call of RegularGridInterpolator can be \n",
    "# used to extrapolate the requested field point to eliminate \n",
    "# the intermediate step, but this method enables use of all the \n",
    "# real data rather than the trimmed data set.\n",
    "\n",
    "def _fix_zgrid_NaNs(xgrid, ygrid, zgrid_input, rot_ang=0):\n",
    "    \"\"\"Fix NaN's in Zernike Grid\n",
    "    \n",
    "    We trim NaN's within `zgrid`, then generate an extrapolation function\n",
    "    using `RegularGridInterpolator`. A rotation angle can also be specified\n",
    "    to maximize the number of remaining data points due to irregular\n",
    "    polygons of the real `zgrid` data.\n",
    "    \n",
    "    Returns `zgrid` with the NaN's fixed using the extrapolation function.\n",
    "    \n",
    "    Parameter\n",
    "    =========\n",
    "    xgrid : ndarray\n",
    "        1D V2 regular grid information\n",
    "    ygrid : ndarray\n",
    "        1D V3 regular grid information\n",
    "    zgrid : ndarray\n",
    "        2D Zernike grid\n",
    "    rot_ang : float\n",
    "        Option to rotate grid data for more optimal\n",
    "        trimming of NaN's.\n",
    "    \"\"\"\n",
    "            \n",
    "    # Prevent this function from replacing original data\n",
    "    zgrid = zgrid_input.copy()\n",
    "        \n",
    "    # Rotate zgrid\n",
    "    if rot_ang != 0:\n",
    "        zgrid = rotate(zgrid, rot_ang, reshape=False, order=1, cval=np.nan)\n",
    "        \n",
    "    # There will be some NaN's along the border that need to be replaced\n",
    "    ind_nan = np.isnan(zgrid)\n",
    "    # Remove rows/cols with NaN's\n",
    "    xgrid2, ygrid2, zgrid2 = _trim_nan_image(xgrid, ygrid, zgrid)\n",
    "    \n",
    "    # Create regular grid interpolator function for extrapolation of NaN's\n",
    "    func = RegularGridInterpolator((ygrid2,xgrid2), zgrid2, method='linear',\n",
    "                                   bounds_error=False, fill_value=None)\n",
    "\n",
    "    # Replace NaNs\n",
    "    X, Y = np.meshgrid(xgrid,ygrid)\n",
    "    pts = np.array([Y[ind_nan], X[ind_nan]]).transpose()\n",
    "    zgrid[ind_nan] = func(pts)\n",
    "\n",
    "    # De-rotate clipped zgrid image and redo RegularGridInterpolator\n",
    "    if rot_ang != 0:\n",
    "        # De-rotate\n",
    "        zgrid = rotate(zgrid, -rot_ang, reshape=False, order=1, cval=np.nan)\n",
    "        # There will be some NaNs along the border that need to be replaced\n",
    "        ind_nan = np.isnan(zgrid)\n",
    "        # Remove rows/cols 1 by 1 until no NaNs\n",
    "        xgrid2, ygrid2, zgrid2 = _trim_nan_image(xgrid, ygrid, zgrid)\n",
    "\n",
    "        # Create regular grid interpolator function for extrapolation of NaN's\n",
    "        func = RegularGridInterpolator((ygrid2,xgrid2), zgrid2, method='linear',\n",
    "                                       bounds_error=False, fill_value=None)\n",
    "\n",
    "        # Replace NaNs\n",
    "        pts = np.array([Y[ind_nan], X[ind_nan]]).transpose()\n",
    "        zgrid[ind_nan] = func(pts)\n",
    "        \n",
    "    return zgrid\n",
    "\n",
    "def _trim_nan_image(xgrid, ygrid, zgrid):\n",
    "    \"\"\"NaN Trimming of Image\n",
    "    \n",
    "    Remove rows/cols with NaN's while trying to preserve\n",
    "    the maximum footprint of real data.\n",
    "    \"\"\"\n",
    "    \n",
    "    xgrid2, ygrid2, zgrid2 = xgrid, ygrid, zgrid\n",
    "    \n",
    "    # Create a mask of NaN'ed values\n",
    "    nan_mask = np.isnan(zgrid2)\n",
    "    nrows, ncols = nan_mask.shape\n",
    "    # Determine number of NaN's along each row and col\n",
    "    num_nans_cols = nan_mask.sum(axis=0)\n",
    "    num_nans_rows = nan_mask.sum(axis=1)\n",
    "    \n",
    "    # First, crop all rows/cols that are only NaN's\n",
    "    xind_good = np.where(num_nans_cols < nrows)[0]\n",
    "    yind_good = np.where(num_nans_rows < ncols)[0]\n",
    "    # get border limits\n",
    "    x1, x2 = (xind_good.min(), xind_good.max()+1)\n",
    "    y1, y2 = (yind_good.min(), yind_good.max()+1)\n",
    "    # Trim of NaN borders\n",
    "    xgrid2 = xgrid2[x1:x2]\n",
    "    ygrid2 = ygrid2[y1:y2]\n",
    "    zgrid2 = zgrid2[y1:y2,x1:x2]\n",
    "    \n",
    "    # Find a optimal rectangule subsection free of NaN's\n",
    "    # Iterative cropping\n",
    "    ndiff = 5\n",
    "    while np.isnan(zgrid2.sum()):\n",
    "        # Make sure ndiff is not negative\n",
    "        if ndiff<0:\n",
    "            break\n",
    "\n",
    "        npix = zgrid2.size\n",
    "\n",
    "        # Create a mask of NaN'ed values\n",
    "        nan_mask = np.isnan(zgrid2)\n",
    "        nrows, ncols = nan_mask.shape\n",
    "        # Determine number of NaN's along each row and col\n",
    "        num_nans_cols = nan_mask.sum(axis=0)\n",
    "        num_nans_rows = nan_mask.sum(axis=1)\n",
    "\n",
    "        # Look for any appreciable diff row-to-row/col-to-col\n",
    "        col_diff = num_nans_cols - np.roll(num_nans_cols,-1) \n",
    "        row_diff = num_nans_rows - np.roll(num_nans_rows,-1)\n",
    "        # For edge wrapping, just use last minus previous\n",
    "        col_diff[-1] = col_diff[-2]\n",
    "        row_diff[-1] = row_diff[-2]\n",
    "        \n",
    "        #print(npix, zgrid2.shape, num_nans_cols, num_nans_rows)\n",
    "\n",
    "        # Keep rows/cols composed mostly of real data \n",
    "        # and where number of NaN's don't change dramatically\n",
    "        xind_good = np.where( ( np.abs(col_diff) <= ndiff  ) & \n",
    "                              ( num_nans_cols < 0.5*nrows ) )[0]\n",
    "        yind_good = np.where( ( np.abs(row_diff) <= ndiff  ) & \n",
    "                              ( num_nans_rows < 0.5*ncols ) )[0]\n",
    "        # get border limits\n",
    "        x1, x2 = (xind_good.min(), xind_good.max()+1)\n",
    "        y1, y2 = (yind_good.min(), yind_good.max()+1)\n",
    "    \n",
    "        # Trim of NaN borders\n",
    "        xgrid2 = xgrid2[x1:x2]\n",
    "        ygrid2 = ygrid2[y1:y2]\n",
    "        zgrid2 = zgrid2[y1:y2,x1:x2]\n",
    "        \n",
    "        # Check for convergence\n",
    "        # If we've converged, reduce \n",
    "        if npix==zgrid2.size:\n",
    "            ndiff -= 1\n",
    "                \n",
    "    # Last ditch effort in case there are still NaNs\n",
    "    # If so, remove rows/cols 1 by 1 until no NaNs\n",
    "    while np.isnan(zgrid2.sum()):\n",
    "        xgrid2 = xgrid2[1:-1]\n",
    "        ygrid2 = ygrid2[1:-1]\n",
    "        zgrid2 = zgrid2[1:-1,1:-1]\n",
    "            \n",
    "    return xgrid2, ygrid2, zgrid2\n",
    "\n"
   ]
  },
  {
   "cell_type": "code",
   "execution_count": 10,
   "metadata": {},
   "outputs": [],
   "source": [
    "# Fix NaN's via extrapolation\n",
    "zgrid_fix = _fix_zgrid_NaNs(xgrid, ygrid, zgrid)"
   ]
  },
  {
   "cell_type": "code",
   "execution_count": 11,
   "metadata": {},
   "outputs": [
    {
     "data": {
      "image/png": "[encoded data removed]",
      "text/plain": [
       "<Figure size 576x360 with 1 Axes>"
      ]
     },
     "metadata": {
      "needs_background": "light"
     },
     "output_type": "display_data"
    }
   ],
   "source": [
    "fig, ax = plt.subplots(1,1, figsize=(8,5))\n",
    "\n",
    "#zmin, zmax = np.nanmin(zgrid), np.nanmax(zgrid)\n",
    "extent = np.array([xgrid.min(),xgrid.max(),ygrid.min(),ygrid.max()]) * 60\n",
    "ax.imshow(zgrid_fix, extent=extent, vmin=zmin, vmax=zmax)\n",
    "\n",
    "siaf = Siaf('NIRCam')\n",
    "ap = siaf['NRCA5_FULL_MASK430R']\n",
    "ap.plot(ax=ax, fill=False, color='C1')\n",
    "\n",
    "fig.tight_layout()"
   ]
  },
  {
   "cell_type": "markdown",
   "metadata": {},
   "source": [
    "# Do All Apertures"
   ]
  },
  {
   "cell_type": "code",
   "execution_count": 12,
   "metadata": {},
   "outputs": [],
   "source": [
    "# for mod in ['SW', 'LW', 'SWA', 'LWA', 'SWB', 'LWB']:\n",
    "for mod in ['SWA', 'LWA', 'SWB', 'LWB']:\n",
    "    # Create a Zernike cube\n",
    "    zcube = []\n",
    "    for k in zkeys:\n",
    "        xgrid, ygrid, zgrid = gen_cv3_zgrid(ztable_full, v2v3_limits, mod, k)\n",
    "        zgrid_fix = _fix_zgrid_NaNs(xgrid, ygrid, zgrid)\n",
    "        zcube.append(zgrid_fix)\n",
    "        \n",
    "    zube = np.array(zcube)\n",
    "    \n",
    "    hdu = fits.PrimaryHDU(zcube)\n",
    "    hdr = hdu.header\n",
    "\n",
    "    dstep = 1. / 60.\n",
    "    hdr['units'] = 'meters'\n",
    "    hdr['xunits'] = 'Arcmin'\n",
    "    hdr['xmin'] = xgrid.min()\n",
    "    hdr['xmax'] = xgrid.max()\n",
    "    hdr['xdel'] = dstep\n",
    "    hdr['yunits'] = 'Arcmin'\n",
    "    hdr['ymin'] = ygrid.min()\n",
    "    hdr['ymax'] = ygrid.max()\n",
    "    hdr['ydel'] = dstep\n",
    "\n",
    "    hdr['wave'] = 2.10 if 'SW' in mod else 3.23\n",
    "\n",
    "    hdr['comment'] = 'X and Y values correspond to V2 and V3 coordinates (arcmin).'\n",
    "    hdr['comment'] = 'Slices in the cube correspond to Zernikes 1 to 36.'\n",
    "    hdr['comment'] = 'Zernike values calculated using 2D cubic interpolation'\n",
    "    hdr['comment'] = 'and linear extrapolation outside gridded data.'\n",
    "\n",
    "    fname = 'NIRCam{}_zernikes_coron.fits'.format(mod)\n",
    "    hdu.writeto(outdir + fname, overwrite=True)\n"
   ]
  },
  {
   "cell_type": "code",
   "execution_count": null,
   "metadata": {},
   "outputs": [],
   "source": []
  }
 ],
 "metadata": {
  "kernelspec": {
   "display_name": "Python 3",
   "language": "python",
   "name": "python3"
  },
  "language_info": {
   "codemirror_mode": {
    "name": "ipython",
    "version": 3
   },
   "file_extension": ".py",
   "mimetype": "text/x-python",
   "name": "python",
   "nbconvert_exporter": "python",
   "pygments_lexer": "ipython3",
   "version": "3.7.1"
  }
 },
 "nbformat": 4,
 "nbformat_minor": 2
}
