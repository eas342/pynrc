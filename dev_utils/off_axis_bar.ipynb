{
 "cells": [
  {
   "cell_type": "code",
   "execution_count": 1,
   "metadata": {
    "collapsed": true
   },
   "outputs": [],
   "source": [
    "# Makes print and division act like Python 3\n",
    "from __future__ import print_function, division\n",
    "\n",
    "# Import the usual libraries\n",
    "import numpy as np\n",
    "import matplotlib\n",
    "import matplotlib.pyplot as plt\n",
    "\n",
    "# Enable inline plotting at lower left\n",
    "%matplotlib inline\n",
    "\n",
    "from IPython.display import display, Latex, clear_output\n",
    "from matplotlib.backends.backend_pdf import PdfPages"
   ]
  },
  {
   "cell_type": "code",
   "execution_count": 2,
   "metadata": {
    "collapsed": true
   },
   "outputs": [],
   "source": [
    "import pynrc\n",
    "from pynrc import nrc_utils\n",
    "from pynrc.nrc_utils import S\n",
    "from pynrc.obs_nircam import model_to_hdulist\n",
    "pynrc.setup_logging('WARNING', verbose=False)"
   ]
  },
  {
   "cell_type": "code",
   "execution_count": 3,
   "metadata": {
    "collapsed": true
   },
   "outputs": [],
   "source": [
    "from pynrc.nrc_utils import *"
   ]
  },
  {
   "cell_type": "code",
   "execution_count": 4,
   "metadata": {
    "collapsed": true
   },
   "outputs": [],
   "source": [
    "fpix, osamp = (321, 2)\n",
    "filt = 'F430M'\n",
    "pupil='WEDGELYOT'\n",
    "mask='MASKLWB'"
   ]
  },
  {
   "cell_type": "code",
   "execution_count": 5,
   "metadata": {
    "collapsed": true
   },
   "outputs": [],
   "source": [
    "bp_k = pynrc.bp_2mass('k')\n",
    "sp_sci = pynrc.stellar_spectrum('A0V', 7, 'vegamag', bp_k)\n",
    "sp_ref = pynrc.stellar_spectrum('A0V', 6, 'vegamag', bp_k)\n"
   ]
  },
  {
   "cell_type": "code",
   "execution_count": 9,
   "metadata": {},
   "outputs": [
    {
     "name": "stdout",
     "output_type": "stream",
     "text": [
      "Generating background PSF coefficients...\n",
      "Generating oversampled PSFs...\n",
      "Updating NIRCam reference coefficients...\n",
      "Creating NIRCam reference class...\n",
      "Finished.\n"
     ]
    }
   ],
   "source": [
    "obs = pynrc.obs_hci(sp_sci, sp_ref, 100, verbose=True,\n",
    "                    filter=filt, pupil=pupil, mask=mask, fov_pix=fpix, oversample=osamp)"
   ]
  },
  {
   "cell_type": "code",
   "execution_count": 12,
   "metadata": {},
   "outputs": [
    {
     "data": {
      "text/plain": [
       "{'force': False,\n",
       " 'fov_pix': 321,\n",
       " 'jitter': None,\n",
       " 'offset_r': 0,\n",
       " 'offset_theta': 0,\n",
       " 'opd': ('OPD_RevW_ote_for_NIRCam_requirements.fits', 0),\n",
       " 'oversample': 2,\n",
       " 'save': True,\n",
       " 'tel_pupil': None}"
      ]
     },
     "execution_count": 12,
     "metadata": {},
     "output_type": "execute_result"
    }
   ],
   "source": [
    "obs.psf_info_bg"
   ]
  },
  {
   "cell_type": "code",
   "execution_count": 13,
   "metadata": {
    "collapsed": true
   },
   "outputs": [],
   "source": [
    "self = obs"
   ]
  },
  {
   "cell_type": "code",
   "execution_count": 30,
   "metadata": {},
   "outputs": [],
   "source": [
    "xoff_arcsec_max = 10\n",
    "\n",
    "xpix = self.det_info['xpix']\n",
    "xpix_off_asec = np.ceil(xpix * self.pix_scale / 2)\n",
    "\n",
    "xoff_asec = np.min([xpix_off_asec, xoff_arcsec_max])\n",
    "\n",
    "# Offset values to create new PSF\n",
    "del_off = 1\n",
    "offset_vals = np.arange(-xoff_asec, xoff_asec+del_off, del_off)\n",
    "\n"
   ]
  },
  {
   "cell_type": "code",
   "execution_count": 31,
   "metadata": {},
   "outputs": [
    {
     "data": {
      "text/plain": [
       "array([-10.,  -9.,  -8.,  -7.,  -6.,  -5.,  -4.,  -3.,  -2.,  -1.,   0.,\n",
       "         1.,   2.,   3.,   4.,   5.,   6.,   7.,   8.,   9.,  10.])"
      ]
     },
     "execution_count": 31,
     "metadata": {},
     "output_type": "execute_result"
    }
   ],
   "source": [
    "offset_vals"
   ]
  },
  {
   "cell_type": "code",
   "execution_count": 22,
   "metadata": {},
   "outputs": [
    {
     "name": "stdout",
     "output_type": "stream",
     "text": [
      "-10\n",
      "-9\n",
      "-8\n",
      "-7\n",
      "-6\n",
      "-5\n",
      "-4\n",
      "-3\n",
      "-2\n",
      "-1\n",
      "0\n",
      "1\n",
      "2\n",
      "3\n",
      "4\n",
      "5\n",
      "6\n",
      "7\n",
      "8\n",
      "9\n",
      "10\n"
     ]
    }
   ],
   "source": [
    "psf_list = []\n",
    "for offset in offset_vals:\n",
    "    print(offset)\n",
    "    self.bar_offset = offset\n",
    "    _, psf = self.gen_psf(return_oversample=True, use_bg_psf=False)\n",
    "    psf_list.append(psf)\n"
   ]
  },
  {
   "cell_type": "code",
   "execution_count": 21,
   "metadata": {},
   "outputs": [
    {
     "data": {
      "text/plain": [
       "1.0431999999999979"
      ]
     },
     "execution_count": 21,
     "metadata": {},
     "output_type": "execute_result"
    }
   ],
   "source": [
    "baroff_orig"
   ]
  },
  {
   "cell_type": "code",
   "execution_count": null,
   "metadata": {
    "collapsed": true
   },
   "outputs": [],
   "source": []
  },
  {
   "cell_type": "code",
   "execution_count": null,
   "metadata": {
    "collapsed": true
   },
   "outputs": [],
   "source": [
    "coeff  = psf_coeff(filt, pupil, mask, fov_pix=fpix, oversample=osamp)"
   ]
  },
  {
   "cell_type": "code",
   "execution_count": 5,
   "metadata": {},
   "outputs": [
    {
     "name": "stderr",
     "output_type": "stream",
     "text": [
      "[     pynrc:WARNING] Generating field-dependent coefficients. This may take some time.\n"
     ]
    }
   ],
   "source": [
    "cf_resid = wedge_coeff(filt, pupil, mask, fov_pix=fpix, oversample=osamp)"
   ]
  },
  {
   "cell_type": "code",
   "execution_count": 6,
   "metadata": {
    "collapsed": true
   },
   "outputs": [],
   "source": [
    "# The narrow location (arcsec)\n",
    "bar_offset = 0\n",
    "cf_fit = cf_resid.reshape([cf_resid.shape[0], -1])\n",
    "cf_mod = jl_poly(np.array([bar_offset]), cf_fit).reshape(coeff.shape)\n",
    "cf_new = coeff + cf_mod"
   ]
  },
  {
   "cell_type": "code",
   "execution_count": 7,
   "metadata": {
    "collapsed": true
   },
   "outputs": [],
   "source": [
    "psf    = gen_image_coeff(filt, pupil, mask, coeff=cf_new, fov_pix=fpix, oversample=osamp)"
   ]
  },
  {
   "cell_type": "code",
   "execution_count": 8,
   "metadata": {
    "collapsed": true
   },
   "outputs": [],
   "source": [
    "psf0   = gen_image_coeff(filt, pupil, mask, coeff=coeff, fov_pix=fpix, oversample=osamp)"
   ]
  },
  {
   "cell_type": "code",
   "execution_count": 9,
   "metadata": {},
   "outputs": [],
   "source": [
    "diff = psf0-psf"
   ]
  },
  {
   "cell_type": "code",
   "execution_count": 10,
   "metadata": {},
   "outputs": [
    {
     "name": "stdout",
     "output_type": "stream",
     "text": [
      "4.8826650308e-06 0.00571674978586\n"
     ]
    }
   ],
   "source": [
    "ind = psf0>0\n",
    "chi1 = np.sum((diff[ind])**2 / psf0[ind])\n",
    "\n",
    "print(chi1, chi1 / psf0.sum())"
   ]
  },
  {
   "cell_type": "code",
   "execution_count": 29,
   "metadata": {},
   "outputs": [
    {
     "name": "stdout",
     "output_type": "stream",
     "text": [
      "1.55220781874e-05 0.0182745205825\n"
     ]
    }
   ],
   "source": [
    "ind = psf>0\n",
    "chi1 = np.sum((diff[ind])**2 / psf[ind])\n",
    "\n",
    "print(chi1, chi1 / psf.sum())"
   ]
  },
  {
   "cell_type": "code",
   "execution_count": 5,
   "metadata": {},
   "outputs": [
    {
     "name": "stderr",
     "output_type": "stream",
     "text": [
      "[     pynrc:WARNING] Generating field-dependent coefficients. This may take some time.\n"
     ]
    }
   ],
   "source": [
    "nrc = pynrc.NIRCam(filt, pupil, mask, fov_pix=fpix, oversample=osamp)"
   ]
  },
  {
   "cell_type": "code",
   "execution_count": 17,
   "metadata": {},
   "outputs": [],
   "source": [
    "nrc.bar_offset=-8"
   ]
  },
  {
   "cell_type": "code",
   "execution_count": 25,
   "metadata": {},
   "outputs": [],
   "source": [
    "nrc.wfe_drift = 0"
   ]
  },
  {
   "cell_type": "code",
   "execution_count": 19,
   "metadata": {
    "collapsed": true
   },
   "outputs": [],
   "source": [
    "psf0 = nrc.gen_psf()"
   ]
  },
  {
   "cell_type": "code",
   "execution_count": 27,
   "metadata": {
    "scrolled": false
   },
   "outputs": [],
   "source": [
    "psf5 = nrc.gen_psf()"
   ]
  },
  {
   "cell_type": "code",
   "execution_count": 28,
   "metadata": {},
   "outputs": [
    {
     "data": {
      "text/plain": [
       "0.0"
      ]
     },
     "execution_count": 28,
     "metadata": {},
     "output_type": "execute_result"
    }
   ],
   "source": [
    "np.max(np.abs(psf5-psf0)) / psf0.max()"
   ]
  },
  {
   "cell_type": "code",
   "execution_count": 29,
   "metadata": {
    "scrolled": true
   },
   "outputs": [
    {
     "data": {
      "text/plain": [
       "<matplotlib.image.AxesImage at 0x120d66668>"
      ]
     },
     "execution_count": 29,
     "metadata": {},
     "output_type": "execute_result"
    },
    {
     "data": {
      "image/png": "[encoded data removed]",
      "text/plain": [
       "<matplotlib.figure.Figure at 0x1216db080>"
      ]
     },
     "metadata": {},
     "output_type": "display_data"
    }
   ],
   "source": [
    "plt.imshow(psf5-psf0)"
   ]
  },
  {
   "cell_type": "code",
   "execution_count": 7,
   "metadata": {},
   "outputs": [
    {
     "data": {
      "text/plain": [
       "<matplotlib.image.AxesImage at 0x1233393c8>"
      ]
     },
     "execution_count": 7,
     "metadata": {},
     "output_type": "execute_result"
    },
    {
     "data": {
      "image/png": "[encoded data removed]",
      "text/plain": [
       "<matplotlib.figure.Figure at 0x12189e5c0>"
      ]
     },
     "metadata": {},
     "output_type": "display_data"
    }
   ],
   "source": [
    "plt.imshow(nrc.gen_psf())"
   ]
  },
  {
   "cell_type": "code",
   "execution_count": null,
   "metadata": {
    "collapsed": true
   },
   "outputs": [],
   "source": []
  },
  {
   "cell_type": "code",
   "execution_count": 28,
   "metadata": {},
   "outputs": [
    {
     "data": {
      "text/plain": [
       "81.830281201726194"
      ]
     },
     "execution_count": 28,
     "metadata": {},
     "output_type": "execute_result"
    }
   ],
   "source": [
    "ratio = abs(diff) / psf0\n",
    "ind = ratio != np.inf\n",
    "np.nanmax(ratio[ind])"
   ]
  },
  {
   "cell_type": "code",
   "execution_count": null,
   "metadata": {
    "collapsed": true
   },
   "outputs": [],
   "source": []
  },
  {
   "cell_type": "code",
   "execution_count": 50,
   "metadata": {},
   "outputs": [],
   "source": [
    "force=False\n",
    "save=True\n",
    "save_name=None\n",
    "\n",
    "kwargs = {}\n",
    "kwargs['force']     = True\n",
    "kwargs['save']      = False\n",
    "kwargs['save_name'] = None\n",
    "\n",
    "kwargs['pupil'] = pupil\n",
    "kwargs['mask'] = mask\n",
    "\n",
    "module = kwargs.get('module', 'A')\n",
    "kwargs['module'] = module\n",
    "\n",
    "kwargs['fov_pix'] = fpix\n",
    "kwargs['oversample'] = osamp\n",
    "\n",
    "# Get filter throughput and create bandpass \n",
    "bp = read_filter(filter)\n",
    "channel = 'SW' if bp.avgwave() < 24000 else 'LW'\n",
    "\n",
    "# Final filename to save coeff\n",
    "if save_name is None:\n",
    "    # Name to save array of oversampled coefficients\n",
    "    save_dir = conf.PYNRC_PATH + 'psf_coeffs/'\n",
    "    # Create directory if it doesn't already exist\n",
    "    if not os.path.isdir(save_dir):\n",
    "        os.makedirs(save_dir)\n",
    "\n",
    "    # Final filename to save coeff\n",
    "    save_name = psf_coeff(filter, return_save_name=True, **kwargs)\n",
    "    save_name = os.path.splitext(save_name)[0] + '_wedge.npy'\n"
   ]
  },
  {
   "cell_type": "code",
   "execution_count": 51,
   "metadata": {},
   "outputs": [
    {
     "name": "stdout",
     "output_type": "stream",
     "text": [
      "Bar Offset: -8.0 arcsec\n",
      "Bar Offset: -7.5 arcsec\n",
      "Bar Offset: -7.0 arcsec\n",
      "Bar Offset: -6.5 arcsec\n",
      "Bar Offset: -6.0 arcsec\n",
      "Bar Offset: -5.5 arcsec\n",
      "Bar Offset: -5.0 arcsec\n",
      "Bar Offset: -4.5 arcsec\n",
      "Bar Offset: -4.0 arcsec\n",
      "Bar Offset: -3.5 arcsec\n",
      "Bar Offset: -3.0 arcsec\n",
      "Bar Offset: -2.5 arcsec\n",
      "Bar Offset: -2.0 arcsec\n",
      "Bar Offset: -1.5 arcsec\n",
      "Bar Offset: -1.0 arcsec\n",
      "Bar Offset: -0.5 arcsec\n",
      "Bar Offset: 0.0 arcsec\n",
      "Bar Offset: 0.5 arcsec\n",
      "Bar Offset: 1.0 arcsec\n",
      "Bar Offset: 1.5 arcsec\n",
      "Bar Offset: 2.0 arcsec\n",
      "Bar Offset: 2.5 arcsec\n",
      "Bar Offset: 3.0 arcsec\n",
      "Bar Offset: 3.5 arcsec\n",
      "Bar Offset: 4.0 arcsec\n",
      "Bar Offset: 4.5 arcsec\n",
      "Bar Offset: 5.0 arcsec\n",
      "Bar Offset: 5.5 arcsec\n",
      "Bar Offset: 6.0 arcsec\n",
      "Bar Offset: 6.5 arcsec\n",
      "Bar Offset: 7.0 arcsec\n",
      "Bar Offset: 7.5 arcsec\n"
     ]
    }
   ],
   "source": [
    "# Cycle through a list of bar offset locations\n",
    "values = np.arange(-8,8,0.5)\n",
    "nvals = len(values)\n",
    "\n",
    "# First is default value\n",
    "kwargs['include_si_wfe'] = True\n",
    "cf0 = psf_coeff(filter, bar_offset=0, **kwargs)\n",
    "\n",
    "cf_offset = []\n",
    "for val in values:\n",
    "    print('Bar Offset: {:.1f} arcsec'.format(val))\n",
    "    kwargs['bar_offset'] = val\n",
    "\n",
    "    cf = psf_coeff(filter, **kwargs)\n",
    "    cf_offset.append(cf)\n"
   ]
  },
  {
   "cell_type": "code",
   "execution_count": 52,
   "metadata": {
    "collapsed": true
   },
   "outputs": [],
   "source": [
    "cf_offset = np.array(cf_offset)\n",
    "\n",
    "# Get residuals\n",
    "cf_offset -= cf0\n",
    "\n",
    "# Fit each pixel with a polynomial and save the coefficient\n",
    "cf_offset = cf_offset.reshape([nvals, -1])"
   ]
  },
  {
   "cell_type": "code",
   "execution_count": 59,
   "metadata": {
    "collapsed": true
   },
   "outputs": [],
   "source": [
    "wedge_cf = jl_poly_fit(values, cf_offset, 4)\n",
    "wedge_cf = wedge_cf.reshape([-1, cf.shape[0], cf.shape[1], cf.shape[2]])"
   ]
  },
  {
   "cell_type": "code",
   "execution_count": 60,
   "metadata": {},
   "outputs": [
    {
     "name": "stdout",
     "output_type": "stream",
     "text": [
      "0 -8.0 1.684772402e-05 0.0313168052272\n",
      "1 -7.5 3.64502217024e-05 0.0683158907255\n",
      "2 -7.0 9.89680241041e-06 0.0182078938357\n",
      "3 -6.5 7.61097419151e-06 0.0137053164923\n",
      "4 -6.0 4.74219514196e-06 0.00823431932635\n",
      "5 -5.5 2.99606697315e-06 0.00504466505576\n",
      "6 -5.0 1.7023791285e-06 0.00277072719988\n",
      "7 -4.5 9.61387175009e-07 0.0015155336546\n",
      "8 -4.0 6.5135906069e-07 0.000994765785762\n",
      "9 -3.5 8.32885692247e-07 0.00123385475035\n",
      "10 -3.0 1.39630847879e-06 0.00200973989718\n",
      "11 -2.5 2.07813422993e-06 0.00290892095708\n",
      "12 -2.0 2.67779925868e-06 0.00364991418923\n",
      "13 -1.5 2.53905953125e-06 0.00337471716422\n",
      "14 -1.0 2.12132808862e-06 0.0027520680696\n",
      "15 -0.5 1.44860305762e-06 0.00183576713538\n",
      "16 0.0 9.13301114731e-07 0.00113144572349\n",
      "17 0.5 5.17477585064e-07 0.00062675586566\n",
      "18 1.0 6.75581158102e-07 0.000799686827676\n",
      "19 1.5 1.19287597181e-06 0.00137873704775\n",
      "20 2.0 1.81061563796e-06 0.00204048665258\n",
      "21 2.5 2.36994708643e-06 0.00259651070146\n",
      "22 3.0 2.71282460809e-06 0.00287900710317\n",
      "23 3.5 2.90522777378e-06 0.00297286227434\n",
      "24 4.0 3.14573994027e-06 0.00308341062686\n",
      "25 4.5 4.30419345778e-06 0.00400929384316\n",
      "26 5.0 6.95448678818e-06 0.00610514969244\n",
      "27 5.5 1.0129633458e-05 0.00830051549662\n",
      "28 6.0 1.86435825182e-05 0.0140590139931\n",
      "29 6.5 3.16424074862e-05 0.0217494020968\n",
      "30 7.0 3.68377569869e-05 0.0229166152175\n",
      "31 7.5 2.47239153392e-05 0.0139746992567\n"
     ]
    }
   ],
   "source": [
    "for i in range(len(cf_offset)):\n",
    "    cf_real = cf_offset[i].reshape(cf0.shape) + cf0\n",
    "\n",
    "    psf_real = gen_image_coeff('F430M', pupil, mask, coeff=cf_real, fov_pix=fpix, oversample=osamp)\n",
    "\n",
    "    bar_offset = values[i]\n",
    "    cf_fit = wedge_cf.reshape([wedge_cf.shape[0], -1])\n",
    "    cf_mod = jl_poly(np.array([bar_offset]), cf_fit).reshape(coeff.shape)\n",
    "\n",
    "    cf_new = cf_mod + cf0\n",
    "    psf_new   = gen_image_coeff('F430M', pupil, mask, coeff=cf_new, fov_pix=fpix, oversample=osamp)\n",
    "    \n",
    "    diff = psf_real - psf_new\n",
    "    ind = psf_real>0\n",
    "    chi1 = np.sum((diff[ind])**2 / psf_real[ind])\n",
    "\n",
    "    print(i, bar_offset, chi1, chi1 / psf_real.sum())"
   ]
  },
  {
   "cell_type": "code",
   "execution_count": 56,
   "metadata": {},
   "outputs": [
    {
     "name": "stdout",
     "output_type": "stream",
     "text": [
      "0 -8.0 8.57412127201e-06 0.0159377068114\n",
      "1 -7.5 3.66435303478e-05 0.0686781944834\n",
      "2 -7.0 8.86630752411e-06 0.0163120146709\n",
      "3 -6.5 6.60126391169e-06 0.0118870999799\n",
      "4 -6.0 4.62789648073e-06 0.00803585181353\n",
      "5 -5.5 2.06201859239e-06 0.00347194946927\n",
      "6 -5.0 1.08074505102e-06 0.00175897933596\n",
      "7 -4.5 1.01690443669e-06 0.00160305123407\n",
      "8 -4.0 1.18190311177e-06 0.00180502099169\n",
      "9 -3.5 1.32224257106e-06 0.00195879853934\n",
      "10 -3.0 1.21344882461e-06 0.00174654566168\n",
      "11 -2.5 9.21340370635e-07 0.00128966949014\n",
      "12 -2.0 5.32650624186e-07 0.000726017480516\n",
      "13 -1.5 2.84828044586e-07 0.000378570915366\n",
      "14 -1.0 3.94230991129e-07 0.000511448713924\n",
      "15 -0.5 8.42071371769e-07 0.00106712942639\n",
      "16 0.0 1.43654842666e-06 0.00177967216694\n",
      "17 0.5 1.60028188398e-06 0.00193822126107\n",
      "18 1.0 1.52880283982e-06 0.00180964711413\n",
      "19 1.5 1.22441094035e-06 0.00141518545518\n",
      "20 2.0 8.11269316485e-07 0.000914265942053\n",
      "21 2.5 4.87235360333e-07 0.000533814376901\n",
      "22 3.0 6.07265480813e-07 0.000644465413488\n",
      "23 3.5 1.42859168252e-06 0.00146184968928\n",
      "24 4.0 3.02946986719e-06 0.00296944431505\n",
      "25 4.5 5.86100634529e-06 0.00545944249146\n",
      "26 5.0 9.78560893097e-06 0.00859051274018\n",
      "27 5.5 9.49171048007e-06 0.00777778290359\n",
      "28 6.0 1.16906266913e-05 0.00881583161826\n",
      "29 6.5 2.37176951405e-05 0.0163023527412\n",
      "30 7.0 3.70207725656e-05 0.0230304684469\n",
      "31 7.5 1.33263741564e-05 0.00753246678214\n"
     ]
    }
   ],
   "source": [
    "for i in range(len(cf_offset)):\n",
    "    cf_real = cf_offset[i].reshape(cf0.shape) + cf0\n",
    "\n",
    "    psf_real = gen_image_coeff('F430M', pupil, mask, coeff=cf_real, fov_pix=fpix, oversample=osamp)\n",
    "\n",
    "    bar_offset = values[i]\n",
    "    cf_fit = wedge_cf.reshape([wedge_cf.shape[0], -1])\n",
    "    cf_mod = jl_poly(np.array([bar_offset]), cf_fit).reshape(coeff.shape)\n",
    "\n",
    "    cf_new = cf_mod + cf0\n",
    "    psf_new   = gen_image_coeff('F430M', pupil, mask, coeff=cf_new, fov_pix=fpix, oversample=osamp)\n",
    "    \n",
    "    diff = psf_real - psf_new\n",
    "    ind = psf_real>0\n",
    "    chi1 = np.sum((diff[ind])**2 / psf_real[ind])\n",
    "\n",
    "    print(i, bar_offset, chi1, chi1 / psf_real.sum())"
   ]
  },
  {
   "cell_type": "code",
   "execution_count": 49,
   "metadata": {},
   "outputs": [
    {
     "name": "stdout",
     "output_type": "stream",
     "text": [
      "0 -8 1.5688289204e-05 0.0291616301861\n",
      "1 -7 1.37978538155e-05 0.0253849523326\n",
      "2 -6 1.29534343324e-05 0.022492266023\n",
      "3 -5 9.2348934612e-06 0.0150303596142\n",
      "4 -4 4.90133449385e-06 0.00748539500454\n",
      "5 -3 1.03818799088e-06 0.00149428858861\n",
      "6 -2 1.45348987265e-06 0.00198114675433\n",
      "7 -1 4.07276230816e-06 0.00528372728552\n",
      "8 0 5.74251727389e-06 0.00711413410845\n",
      "9 1 4.89836606967e-06 0.00579820614603\n",
      "10 2 2.33549553429e-06 0.0026320039245\n",
      "11 3 1.46803403103e-06 0.00155796301406\n",
      "12 4 1.4462876001e-05 0.0141763103128\n",
      "13 5 1.88671115228e-05 0.016562910193\n",
      "14 6 2.48943880222e-05 0.018772709012\n",
      "15 7 1.43851118481e-05 0.00894891817656\n"
     ]
    }
   ],
   "source": [
    "for i in range(len(cf_offset)):\n",
    "    cf_real = cf_offset[i].reshape(cf0.shape) + cf0\n",
    "\n",
    "    psf_real = gen_image_coeff('F430M', pupil, mask, coeff=cf_real, fov_pix=fpix, oversample=osamp)\n",
    "\n",
    "    bar_offset = values[i]\n",
    "    cf_fit = wedge_cf.reshape([wedge_cf.shape[0], -1])\n",
    "    cf_mod = jl_poly(np.array([bar_offset]), cf_fit).reshape(coeff.shape)\n",
    "\n",
    "    cf_new = cf_mod + cf0\n",
    "    psf_new   = gen_image_coeff('F430M', pupil, mask, coeff=cf_new, fov_pix=fpix, oversample=osamp)\n",
    "    \n",
    "    diff = psf_real - psf_new\n",
    "    ind = psf_real>0\n",
    "    chi1 = np.sum((diff[ind])**2 / psf_real[ind])\n",
    "\n",
    "    print(i, bar_offset, chi1, chi1 / psf_real.sum())"
   ]
  },
  {
   "cell_type": "code",
   "execution_count": 64,
   "metadata": {},
   "outputs": [
    {
     "data": {
      "text/plain": [
       "(5.2485999999999979, -90.0)"
      ]
     },
     "execution_count": 64,
     "metadata": {},
     "output_type": "execute_result"
    }
   ],
   "source": [
    "nrc_utils.offset_bar('F300M', 'MASKLWB')"
   ]
  },
  {
   "cell_type": "code",
   "execution_count": 65,
   "metadata": {},
   "outputs": [
    {
     "name": "stdout",
     "output_type": "stream",
     "text": [
      "(6.8459999999999983, -90.0)\n",
      "(5.2485999999999979, -90.0)\n",
      "(5.0781199999999993, -90.0)\n",
      "(4.0749999999999984, -90.0)\n",
      "(3.1947999999999981, -90.0)\n",
      "(2.4553199999999991, -90.0)\n",
      "(1.6625999999999992, -90.0)\n",
      "(1.0431999999999979, -90.0)\n",
      "(0.097800000000000803, 90.0)\n",
      "(0.61940000000000128, 90.0)\n",
      "(0.76788000000000112, 90.0)\n"
     ]
    }
   ],
   "source": [
    "filts = [\"F250M\",\n",
    "\"F300M\",\n",
    "\"F277W\",\n",
    "\"F335M\",\n",
    "\"F360M\",\n",
    "\"F356W\",\n",
    "\"F410M\",\n",
    "\"F430M\",\n",
    "\"F460M\",\n",
    "\"F480M\",\n",
    "\"F444W\"]\n",
    "\n",
    "for f in filts:\n",
    "    print(nrc_utils.offset_bar(f, 'MASKLWB'))"
   ]
  },
  {
   "cell_type": "code",
   "execution_count": null,
   "metadata": {
    "collapsed": true
   },
   "outputs": [],
   "source": []
  },
  {
   "cell_type": "code",
   "execution_count": null,
   "metadata": {
    "collapsed": true
   },
   "outputs": [],
   "source": []
  },
  {
   "cell_type": "code",
   "execution_count": null,
   "metadata": {
    "collapsed": true
   },
   "outputs": [],
   "source": []
  }
 ],
 "metadata": {
  "kernelspec": {
   "display_name": "Python 3",
   "language": "python",
   "name": "python3"
  },
  "language_info": {
   "codemirror_mode": {
    "name": "ipython",
    "version": 3
   },
   "file_extension": ".py",
   "mimetype": "text/x-python",
   "name": "python",
   "nbconvert_exporter": "python",
   "pygments_lexer": "ipython3",
   "version": "3.6.1"
  }
 },
 "nbformat": 4,
 "nbformat_minor": 2
}
